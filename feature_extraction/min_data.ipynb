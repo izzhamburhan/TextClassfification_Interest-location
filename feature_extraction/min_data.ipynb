{
 "cells": [
  {
   "cell_type": "code",
   "execution_count": 1,
   "metadata": {},
   "outputs": [],
   "source": [
    "import pandas as pd"
   ]
  },
  {
   "cell_type": "code",
   "execution_count": 2,
   "metadata": {},
   "outputs": [
    {
     "name": "stdout",
     "output_type": "stream",
     "text": [
      "Data from file 1\n",
      "['school', 'student', 'university', 'education', 'teacher', 'learning', 'curriculum', 'online', 'international', 'kid']\n",
      "Data from file 2\n",
      "['game', 'movie', 'music', 'tiktok', 'video', 'gaming', 'festival', 'artist', 'comedy', 'culture']\n",
      "Data from file 3\n",
      "['food', 'restaurant', 'drink', 'satay', 'review', 'cooking', 'teh', 'eat', 'kedah', 'tarik']\n",
      "Data from file 4\n",
      "['government', 'politics', 'politician', 'parliament', 'election', 'state', 'country', 'people', 'governance', 'minister']\n",
      "Data from file 5\n",
      "['badminton', 'hiking', 'sport', 'cycling', 'jogging', 'team', 'demi', 'footballtweet', 'game', 'player']\n",
      "Data from file 6\n",
      "['digital', 'technology', 'cybersecurity', '5g', 'software', 'tech', 'security', 'cyber', 'minister', 'innovation']\n"
     ]
    }
   ],
   "source": [
    "data_lists = []\n",
    "\n",
    "num = 10\n",
    "folder = f'comparison_{num}'\n",
    "\n",
    "\n",
    "file_paths = [f'{folder}/word_education_{num}.txt', f'{folder}/word_entertainment_{num}.txt', f'{folder}/word_foodndrink_{num}.txt' , f'{folder}/word_politics_{num}.txt' , f'{folder}/word_sports_{num}.txt', f'{folder}/word_technology_{num}.txt']\n",
    "\n",
    "\n",
    "for file_path in file_paths :\n",
    "    word_list = []\n",
    "\n",
    "    with open(file_path, 'r') as file:\n",
    "        for line in file:\n",
    "            word_list.append(line.strip())\n",
    "    \n",
    "    data_lists.append(word_list)\n",
    "\n",
    "\n",
    "for i, data in enumerate(data_lists):\n",
    "    print(f\"Data from file {i + 1}\")\n",
    "    print(data)"
   ]
  },
  {
   "cell_type": "code",
   "execution_count": 3,
   "metadata": {},
   "outputs": [
    {
     "data": {
      "text/plain": [
       "[['school',\n",
       "  'student',\n",
       "  'university',\n",
       "  'education',\n",
       "  'teacher',\n",
       "  'learning',\n",
       "  'curriculum',\n",
       "  'online',\n",
       "  'international',\n",
       "  'kid'],\n",
       " ['game',\n",
       "  'movie',\n",
       "  'music',\n",
       "  'tiktok',\n",
       "  'video',\n",
       "  'gaming',\n",
       "  'festival',\n",
       "  'artist',\n",
       "  'comedy',\n",
       "  'culture'],\n",
       " ['food',\n",
       "  'restaurant',\n",
       "  'drink',\n",
       "  'satay',\n",
       "  'review',\n",
       "  'cooking',\n",
       "  'teh',\n",
       "  'eat',\n",
       "  'kedah',\n",
       "  'tarik'],\n",
       " ['government',\n",
       "  'politics',\n",
       "  'politician',\n",
       "  'parliament',\n",
       "  'election',\n",
       "  'state',\n",
       "  'country',\n",
       "  'people',\n",
       "  'governance',\n",
       "  'minister'],\n",
       " ['badminton',\n",
       "  'hiking',\n",
       "  'sport',\n",
       "  'cycling',\n",
       "  'jogging',\n",
       "  'team',\n",
       "  'demi',\n",
       "  'footballtweet',\n",
       "  'game',\n",
       "  'player'],\n",
       " ['digital',\n",
       "  'technology',\n",
       "  'cybersecurity',\n",
       "  '5g',\n",
       "  'software',\n",
       "  'tech',\n",
       "  'security',\n",
       "  'cyber',\n",
       "  'minister',\n",
       "  'innovation']]"
      ]
     },
     "execution_count": 3,
     "metadata": {},
     "output_type": "execute_result"
    }
   ],
   "source": [
    "data_lists"
   ]
  },
  {
   "cell_type": "code",
   "execution_count": 4,
   "metadata": {},
   "outputs": [
    {
     "name": "stdout",
     "output_type": "stream",
     "text": [
      "['school', 'student', 'university', 'education', 'teacher', 'learning', 'curriculum', 'online', 'international', 'kid', 'game', 'movie', 'music', 'tiktok', 'video', 'gaming', 'festival', 'artist', 'comedy', 'culture', 'food', 'restaurant', 'drink', 'satay', 'review', 'cooking', 'teh', 'eat', 'kedah', 'tarik', 'government', 'politics', 'politician', 'parliament', 'election', 'state', 'country', 'people', 'governance', 'minister', 'badminton', 'hiking', 'sport', 'cycling', 'jogging', 'team', 'demi', 'footballtweet', 'game', 'player', 'digital', 'technology', 'cybersecurity', '5g', 'software', 'tech', 'security', 'cyber', 'minister', 'innovation']\n"
     ]
    }
   ],
   "source": [
    "all_data = [item for sublist in data_lists for item in sublist]\n",
    "\n",
    "print(all_data)"
   ]
  },
  {
   "cell_type": "code",
   "execution_count": 5,
   "metadata": {},
   "outputs": [
    {
     "data": {
      "text/plain": [
       "60"
      ]
     },
     "execution_count": 5,
     "metadata": {},
     "output_type": "execute_result"
    }
   ],
   "source": [
    "len(all_data)"
   ]
  },
  {
   "cell_type": "code",
   "execution_count": 6,
   "metadata": {},
   "outputs": [
    {
     "data": {
      "text/html": [
       "<div>\n",
       "<style scoped>\n",
       "    .dataframe tbody tr th:only-of-type {\n",
       "        vertical-align: middle;\n",
       "    }\n",
       "\n",
       "    .dataframe tbody tr th {\n",
       "        vertical-align: top;\n",
       "    }\n",
       "\n",
       "    .dataframe thead th {\n",
       "        text-align: right;\n",
       "    }\n",
       "</style>\n",
       "<table border=\"1\" class=\"dataframe\">\n",
       "  <thead>\n",
       "    <tr style=\"text-align: right;\">\n",
       "      <th></th>\n",
       "      <th>text</th>\n",
       "      <th>location</th>\n",
       "      <th>interest</th>\n",
       "    </tr>\n",
       "  </thead>\n",
       "  <tbody>\n",
       "    <tr>\n",
       "      <th>0</th>\n",
       "      <td>attempt hari tu act like smart deep tech entre...</td>\n",
       "      <td>Unknown</td>\n",
       "      <td>Technology</td>\n",
       "    </tr>\n",
       "    <tr>\n",
       "      <th>1</th>\n",
       "      <td>mosti cradle ni clueless whats going  tech tal...</td>\n",
       "      <td>Unknown</td>\n",
       "      <td>Technology</td>\n",
       "    </tr>\n",
       "    <tr>\n",
       "      <th>2</th>\n",
       "      <td>hightech export country  942b hong kong 431b g...</td>\n",
       "      <td>Unknown</td>\n",
       "      <td>Technology</td>\n",
       "    </tr>\n",
       "    <tr>\n",
       "      <th>3</th>\n",
       "      <td>tbh  many tech talent dont actually need focus...</td>\n",
       "      <td>Unknown</td>\n",
       "      <td>Technology</td>\n",
       "    </tr>\n",
       "    <tr>\n",
       "      <th>4</th>\n",
       "      <td>make 180000 tech consultant london grew extrem...</td>\n",
       "      <td>Unknown</td>\n",
       "      <td>Technology</td>\n",
       "    </tr>\n",
       "    <tr>\n",
       "      <th>...</th>\n",
       "      <td>...</td>\n",
       "      <td>...</td>\n",
       "      <td>...</td>\n",
       "    </tr>\n",
       "    <tr>\n",
       "      <th>27592</th>\n",
       "      <td>smartwatch one better sport ea garmin amazfit ...</td>\n",
       "      <td>Terengganu</td>\n",
       "      <td>Sports</td>\n",
       "    </tr>\n",
       "    <tr>\n",
       "      <th>27593</th>\n",
       "      <td>abearfromsea heaven football maracana</td>\n",
       "      <td>Terengganu</td>\n",
       "      <td>Sports</td>\n",
       "    </tr>\n",
       "    <tr>\n",
       "      <th>27594</th>\n",
       "      <td>king pele former youth sport minister khairykj...</td>\n",
       "      <td>Terengganu</td>\n",
       "      <td>Sports</td>\n",
       "    </tr>\n",
       "    <tr>\n",
       "      <th>27595</th>\n",
       "      <td>love football</td>\n",
       "      <td>Terengganu</td>\n",
       "      <td>Sports</td>\n",
       "    </tr>\n",
       "    <tr>\n",
       "      <th>27596</th>\n",
       "      <td>kb football clinic although internet connectio...</td>\n",
       "      <td>Terengganu</td>\n",
       "      <td>Sports</td>\n",
       "    </tr>\n",
       "  </tbody>\n",
       "</table>\n",
       "<p>27597 rows × 3 columns</p>\n",
       "</div>"
      ],
      "text/plain": [
       "                                                    text    location  \\\n",
       "0      attempt hari tu act like smart deep tech entre...     Unknown   \n",
       "1      mosti cradle ni clueless whats going  tech tal...     Unknown   \n",
       "2      hightech export country  942b hong kong 431b g...     Unknown   \n",
       "3      tbh  many tech talent dont actually need focus...     Unknown   \n",
       "4      make 180000 tech consultant london grew extrem...     Unknown   \n",
       "...                                                  ...         ...   \n",
       "27592  smartwatch one better sport ea garmin amazfit ...  Terengganu   \n",
       "27593              abearfromsea heaven football maracana  Terengganu   \n",
       "27594  king pele former youth sport minister khairykj...  Terengganu   \n",
       "27595                                      love football  Terengganu   \n",
       "27596  kb football clinic although internet connectio...  Terengganu   \n",
       "\n",
       "         interest  \n",
       "0      Technology  \n",
       "1      Technology  \n",
       "2      Technology  \n",
       "3      Technology  \n",
       "4      Technology  \n",
       "...           ...  \n",
       "27592      Sports  \n",
       "27593      Sports  \n",
       "27594      Sports  \n",
       "27595      Sports  \n",
       "27596      Sports  \n",
       "\n",
       "[27597 rows x 3 columns]"
      ]
     },
     "execution_count": 6,
     "metadata": {},
     "output_type": "execute_result"
    }
   ],
   "source": [
    "df = pd.read_csv('../data/train/text_dataset_labeled.csv')\n",
    "df"
   ]
  },
  {
   "cell_type": "code",
   "execution_count": 7,
   "metadata": {},
   "outputs": [],
   "source": [
    "# pattern = '|'.join(all_data)\n",
    "\n",
    "# filtered_df = df[df['text'].str.contains(pattern, case=False, na=False)]\n",
    "\n",
    "pattern = r'\\b(?:' + '|'.join(all_data) + r')\\b'\n",
    "filtered_df = df[df['text'].str.contains(pattern, case=False, na=False, regex=True)]"
   ]
  },
  {
   "cell_type": "code",
   "execution_count": 8,
   "metadata": {},
   "outputs": [
    {
     "data": {
      "text/html": [
       "<div>\n",
       "<style scoped>\n",
       "    .dataframe tbody tr th:only-of-type {\n",
       "        vertical-align: middle;\n",
       "    }\n",
       "\n",
       "    .dataframe tbody tr th {\n",
       "        vertical-align: top;\n",
       "    }\n",
       "\n",
       "    .dataframe thead th {\n",
       "        text-align: right;\n",
       "    }\n",
       "</style>\n",
       "<table border=\"1\" class=\"dataframe\">\n",
       "  <thead>\n",
       "    <tr style=\"text-align: right;\">\n",
       "      <th></th>\n",
       "      <th>text</th>\n",
       "      <th>location</th>\n",
       "      <th>interest</th>\n",
       "    </tr>\n",
       "  </thead>\n",
       "  <tbody>\n",
       "    <tr>\n",
       "      <th>0</th>\n",
       "      <td>attempt hari tu act like smart deep tech entre...</td>\n",
       "      <td>Unknown</td>\n",
       "      <td>Technology</td>\n",
       "    </tr>\n",
       "    <tr>\n",
       "      <th>1</th>\n",
       "      <td>mosti cradle ni clueless whats going  tech tal...</td>\n",
       "      <td>Unknown</td>\n",
       "      <td>Technology</td>\n",
       "    </tr>\n",
       "    <tr>\n",
       "      <th>2</th>\n",
       "      <td>hightech export country  942b hong kong 431b g...</td>\n",
       "      <td>Unknown</td>\n",
       "      <td>Technology</td>\n",
       "    </tr>\n",
       "    <tr>\n",
       "      <th>3</th>\n",
       "      <td>tbh  many tech talent dont actually need focus...</td>\n",
       "      <td>Unknown</td>\n",
       "      <td>Technology</td>\n",
       "    </tr>\n",
       "    <tr>\n",
       "      <th>4</th>\n",
       "      <td>make 180000 tech consultant london grew extrem...</td>\n",
       "      <td>Unknown</td>\n",
       "      <td>Technology</td>\n",
       "    </tr>\n",
       "    <tr>\n",
       "      <th>...</th>\n",
       "      <td>...</td>\n",
       "      <td>...</td>\n",
       "      <td>...</td>\n",
       "    </tr>\n",
       "    <tr>\n",
       "      <th>27589</th>\n",
       "      <td>sport</td>\n",
       "      <td>Terengganu</td>\n",
       "      <td>Sports</td>\n",
       "    </tr>\n",
       "    <tr>\n",
       "      <th>27590</th>\n",
       "      <td>nobody want teman jogging</td>\n",
       "      <td>Terengganu</td>\n",
       "      <td>Sports</td>\n",
       "    </tr>\n",
       "    <tr>\n",
       "      <th>27591</th>\n",
       "      <td>footballtweet potter 1st</td>\n",
       "      <td>Terengganu</td>\n",
       "      <td>Sports</td>\n",
       "    </tr>\n",
       "    <tr>\n",
       "      <th>27592</th>\n",
       "      <td>smartwatch one better sport ea garmin amazfit ...</td>\n",
       "      <td>Terengganu</td>\n",
       "      <td>Sports</td>\n",
       "    </tr>\n",
       "    <tr>\n",
       "      <th>27594</th>\n",
       "      <td>king pele former youth sport minister khairykj...</td>\n",
       "      <td>Terengganu</td>\n",
       "      <td>Sports</td>\n",
       "    </tr>\n",
       "  </tbody>\n",
       "</table>\n",
       "<p>24620 rows × 3 columns</p>\n",
       "</div>"
      ],
      "text/plain": [
       "                                                    text    location  \\\n",
       "0      attempt hari tu act like smart deep tech entre...     Unknown   \n",
       "1      mosti cradle ni clueless whats going  tech tal...     Unknown   \n",
       "2      hightech export country  942b hong kong 431b g...     Unknown   \n",
       "3      tbh  many tech talent dont actually need focus...     Unknown   \n",
       "4      make 180000 tech consultant london grew extrem...     Unknown   \n",
       "...                                                  ...         ...   \n",
       "27589                                              sport  Terengganu   \n",
       "27590                          nobody want teman jogging  Terengganu   \n",
       "27591                           footballtweet potter 1st  Terengganu   \n",
       "27592  smartwatch one better sport ea garmin amazfit ...  Terengganu   \n",
       "27594  king pele former youth sport minister khairykj...  Terengganu   \n",
       "\n",
       "         interest  \n",
       "0      Technology  \n",
       "1      Technology  \n",
       "2      Technology  \n",
       "3      Technology  \n",
       "4      Technology  \n",
       "...           ...  \n",
       "27589      Sports  \n",
       "27590      Sports  \n",
       "27591      Sports  \n",
       "27592      Sports  \n",
       "27594      Sports  \n",
       "\n",
       "[24620 rows x 3 columns]"
      ]
     },
     "execution_count": 8,
     "metadata": {},
     "output_type": "execute_result"
    }
   ],
   "source": [
    "filtered_df"
   ]
  },
  {
   "cell_type": "code",
   "execution_count": 9,
   "metadata": {},
   "outputs": [
    {
     "name": "stdout",
     "output_type": "stream",
     "text": [
      "The word 'need ' is NOT in the all_data list.\n"
     ]
    }
   ],
   "source": [
    "word = 'need'\n",
    "\n",
    "if word in all_data:\n",
    "    print(f\"The word '{word}' is IN the all_data list.\")\n",
    "else:\n",
    "    print(f\"The word '{word} ' is NOT in the all_data list.\")"
   ]
  },
  {
   "cell_type": "code",
   "execution_count": 10,
   "metadata": {},
   "outputs": [],
   "source": [
    "df_filter = filtered_df.to_csv(f'../data/train/text_dataset_{num}.csv', index=False)"
   ]
  }
 ],
 "metadata": {
  "kernelspec": {
   "display_name": "Python 3",
   "language": "python",
   "name": "python3"
  },
  "language_info": {
   "codemirror_mode": {
    "name": "ipython",
    "version": 3
   },
   "file_extension": ".py",
   "mimetype": "text/x-python",
   "name": "python",
   "nbconvert_exporter": "python",
   "pygments_lexer": "ipython3",
   "version": "3.11.2"
  }
 },
 "nbformat": 4,
 "nbformat_minor": 2
}

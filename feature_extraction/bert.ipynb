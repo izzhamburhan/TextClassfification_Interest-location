{
 "cells": [
  {
   "cell_type": "code",
   "execution_count": 25,
   "metadata": {},
   "outputs": [],
   "source": [
    "import numpy as np\n",
    "import pandas as pd\n",
    "import torch\n",
    "import torch.nn as nn\n",
    "from sklearn.model_selection import train_test_split\n",
    "from sklearn.metrics import classification_report\n",
    "from sklearn.preprocessing import LabelEncoder\n",
    "from torch.utils.data import TensorDataset, DataLoader, RandomSampler, SequentialSampler\n",
    "from transformers import AutoModel, BertTokenizerFast\n",
    "import transformers\n",
    "\n",
    "import seaborn as sns\n",
    "import matplotlib.pyplot as plt\n",
    "\n",
    "# specify GPU\n",
    "device = torch.device(\"cpu\")\n"
   ]
  },
  {
   "cell_type": "code",
   "execution_count": 26,
   "metadata": {},
   "outputs": [],
   "source": [
    "df = pd.read_csv(\"../data/train/text_dataset_10.csv\")\n",
    "df = df.dropna(subset=['text'])\n",
    "\n",
    "# df = df.sample(n=20000, random_state=42)  # You can change the random_state for different random samples\n",
    "# Reset the index after sampling\n",
    "# df = df.reset_index(drop=True)\n",
    "\n",
    "# df = df.head(8000)"
   ]
  },
  {
   "cell_type": "code",
   "execution_count": 27,
   "metadata": {},
   "outputs": [
    {
     "data": {
      "text/html": [
       "<div>\n",
       "<style scoped>\n",
       "    .dataframe tbody tr th:only-of-type {\n",
       "        vertical-align: middle;\n",
       "    }\n",
       "\n",
       "    .dataframe tbody tr th {\n",
       "        vertical-align: top;\n",
       "    }\n",
       "\n",
       "    .dataframe thead th {\n",
       "        text-align: right;\n",
       "    }\n",
       "</style>\n",
       "<table border=\"1\" class=\"dataframe\">\n",
       "  <thead>\n",
       "    <tr style=\"text-align: right;\">\n",
       "      <th></th>\n",
       "      <th>text</th>\n",
       "      <th>location</th>\n",
       "      <th>interest</th>\n",
       "    </tr>\n",
       "  </thead>\n",
       "  <tbody>\n",
       "    <tr>\n",
       "      <th>0</th>\n",
       "      <td>attempt hari tu act like smart deep tech entre...</td>\n",
       "      <td>Unknown</td>\n",
       "      <td>Technology</td>\n",
       "    </tr>\n",
       "    <tr>\n",
       "      <th>1</th>\n",
       "      <td>mosti cradle ni clueless whats going  tech tal...</td>\n",
       "      <td>Unknown</td>\n",
       "      <td>Technology</td>\n",
       "    </tr>\n",
       "    <tr>\n",
       "      <th>2</th>\n",
       "      <td>hightech export country  942b hong kong 431b g...</td>\n",
       "      <td>Unknown</td>\n",
       "      <td>Technology</td>\n",
       "    </tr>\n",
       "    <tr>\n",
       "      <th>3</th>\n",
       "      <td>tbh  many tech talent dont actually need focus...</td>\n",
       "      <td>Unknown</td>\n",
       "      <td>Technology</td>\n",
       "    </tr>\n",
       "    <tr>\n",
       "      <th>4</th>\n",
       "      <td>make 180000 tech consultant london grew extrem...</td>\n",
       "      <td>Unknown</td>\n",
       "      <td>Technology</td>\n",
       "    </tr>\n",
       "    <tr>\n",
       "      <th>...</th>\n",
       "      <td>...</td>\n",
       "      <td>...</td>\n",
       "      <td>...</td>\n",
       "    </tr>\n",
       "    <tr>\n",
       "      <th>24615</th>\n",
       "      <td>sport</td>\n",
       "      <td>Terengganu</td>\n",
       "      <td>Sports</td>\n",
       "    </tr>\n",
       "    <tr>\n",
       "      <th>24616</th>\n",
       "      <td>nobody want teman jogging</td>\n",
       "      <td>Terengganu</td>\n",
       "      <td>Sports</td>\n",
       "    </tr>\n",
       "    <tr>\n",
       "      <th>24617</th>\n",
       "      <td>footballtweet potter 1st</td>\n",
       "      <td>Terengganu</td>\n",
       "      <td>Sports</td>\n",
       "    </tr>\n",
       "    <tr>\n",
       "      <th>24618</th>\n",
       "      <td>smartwatch one better sport ea garmin amazfit ...</td>\n",
       "      <td>Terengganu</td>\n",
       "      <td>Sports</td>\n",
       "    </tr>\n",
       "    <tr>\n",
       "      <th>24619</th>\n",
       "      <td>king pele former youth sport minister khairykj...</td>\n",
       "      <td>Terengganu</td>\n",
       "      <td>Sports</td>\n",
       "    </tr>\n",
       "  </tbody>\n",
       "</table>\n",
       "<p>24620 rows × 3 columns</p>\n",
       "</div>"
      ],
      "text/plain": [
       "                                                    text    location  \\\n",
       "0      attempt hari tu act like smart deep tech entre...     Unknown   \n",
       "1      mosti cradle ni clueless whats going  tech tal...     Unknown   \n",
       "2      hightech export country  942b hong kong 431b g...     Unknown   \n",
       "3      tbh  many tech talent dont actually need focus...     Unknown   \n",
       "4      make 180000 tech consultant london grew extrem...     Unknown   \n",
       "...                                                  ...         ...   \n",
       "24615                                              sport  Terengganu   \n",
       "24616                          nobody want teman jogging  Terengganu   \n",
       "24617                           footballtweet potter 1st  Terengganu   \n",
       "24618  smartwatch one better sport ea garmin amazfit ...  Terengganu   \n",
       "24619  king pele former youth sport minister khairykj...  Terengganu   \n",
       "\n",
       "         interest  \n",
       "0      Technology  \n",
       "1      Technology  \n",
       "2      Technology  \n",
       "3      Technology  \n",
       "4      Technology  \n",
       "...           ...  \n",
       "24615      Sports  \n",
       "24616      Sports  \n",
       "24617      Sports  \n",
       "24618      Sports  \n",
       "24619      Sports  \n",
       "\n",
       "[24620 rows x 3 columns]"
      ]
     },
     "execution_count": 27,
     "metadata": {},
     "output_type": "execute_result"
    }
   ],
   "source": [
    "df"
   ]
  },
  {
   "cell_type": "code",
   "execution_count": 28,
   "metadata": {},
   "outputs": [
    {
     "name": "stdout",
     "output_type": "stream",
     "text": [
      "The dataset contains 6 unique categories\n"
     ]
    }
   ],
   "source": [
    "print(f\"The dataset contains { df.interest.nunique() } unique categories\")"
   ]
  },
  {
   "cell_type": "code",
   "execution_count": 29,
   "metadata": {},
   "outputs": [],
   "source": [
    "# change to lower case\n",
    "df['text'] = df['text'].apply(lambda text: str(text).lower())"
   ]
  },
  {
   "cell_type": "code",
   "execution_count": 30,
   "metadata": {},
   "outputs": [
    {
     "data": {
      "text/html": [
       "<div>\n",
       "<style scoped>\n",
       "    .dataframe tbody tr th:only-of-type {\n",
       "        vertical-align: middle;\n",
       "    }\n",
       "\n",
       "    .dataframe tbody tr th {\n",
       "        vertical-align: top;\n",
       "    }\n",
       "\n",
       "    .dataframe thead th {\n",
       "        text-align: right;\n",
       "    }\n",
       "</style>\n",
       "<table border=\"1\" class=\"dataframe\">\n",
       "  <thead>\n",
       "    <tr style=\"text-align: right;\">\n",
       "      <th></th>\n",
       "      <th>text</th>\n",
       "      <th>location</th>\n",
       "      <th>interest</th>\n",
       "      <th>text_len</th>\n",
       "    </tr>\n",
       "  </thead>\n",
       "  <tbody>\n",
       "    <tr>\n",
       "      <th>0</th>\n",
       "      <td>attempt hari tu act like smart deep tech entre...</td>\n",
       "      <td>Unknown</td>\n",
       "      <td>Technology</td>\n",
       "      <td>28</td>\n",
       "    </tr>\n",
       "    <tr>\n",
       "      <th>1</th>\n",
       "      <td>mosti cradle ni clueless whats going  tech tal...</td>\n",
       "      <td>Unknown</td>\n",
       "      <td>Technology</td>\n",
       "      <td>28</td>\n",
       "    </tr>\n",
       "    <tr>\n",
       "      <th>2</th>\n",
       "      <td>hightech export country  942b hong kong 431b g...</td>\n",
       "      <td>Unknown</td>\n",
       "      <td>Technology</td>\n",
       "      <td>30</td>\n",
       "    </tr>\n",
       "    <tr>\n",
       "      <th>3</th>\n",
       "      <td>tbh  many tech talent dont actually need focus...</td>\n",
       "      <td>Unknown</td>\n",
       "      <td>Technology</td>\n",
       "      <td>31</td>\n",
       "    </tr>\n",
       "    <tr>\n",
       "      <th>4</th>\n",
       "      <td>make 180000 tech consultant london grew extrem...</td>\n",
       "      <td>Unknown</td>\n",
       "      <td>Technology</td>\n",
       "      <td>25</td>\n",
       "    </tr>\n",
       "    <tr>\n",
       "      <th>...</th>\n",
       "      <td>...</td>\n",
       "      <td>...</td>\n",
       "      <td>...</td>\n",
       "      <td>...</td>\n",
       "    </tr>\n",
       "    <tr>\n",
       "      <th>24615</th>\n",
       "      <td>sport</td>\n",
       "      <td>Terengganu</td>\n",
       "      <td>Sports</td>\n",
       "      <td>1</td>\n",
       "    </tr>\n",
       "    <tr>\n",
       "      <th>24616</th>\n",
       "      <td>nobody want teman jogging</td>\n",
       "      <td>Terengganu</td>\n",
       "      <td>Sports</td>\n",
       "      <td>4</td>\n",
       "    </tr>\n",
       "    <tr>\n",
       "      <th>24617</th>\n",
       "      <td>footballtweet potter 1st</td>\n",
       "      <td>Terengganu</td>\n",
       "      <td>Sports</td>\n",
       "      <td>3</td>\n",
       "    </tr>\n",
       "    <tr>\n",
       "      <th>24618</th>\n",
       "      <td>smartwatch one better sport ea garmin amazfit ...</td>\n",
       "      <td>Terengganu</td>\n",
       "      <td>Sports</td>\n",
       "      <td>9</td>\n",
       "    </tr>\n",
       "    <tr>\n",
       "      <th>24619</th>\n",
       "      <td>king pele former youth sport minister khairykj...</td>\n",
       "      <td>Terengganu</td>\n",
       "      <td>Sports</td>\n",
       "      <td>11</td>\n",
       "    </tr>\n",
       "  </tbody>\n",
       "</table>\n",
       "<p>24620 rows × 4 columns</p>\n",
       "</div>"
      ],
      "text/plain": [
       "                                                    text    location  \\\n",
       "0      attempt hari tu act like smart deep tech entre...     Unknown   \n",
       "1      mosti cradle ni clueless whats going  tech tal...     Unknown   \n",
       "2      hightech export country  942b hong kong 431b g...     Unknown   \n",
       "3      tbh  many tech talent dont actually need focus...     Unknown   \n",
       "4      make 180000 tech consultant london grew extrem...     Unknown   \n",
       "...                                                  ...         ...   \n",
       "24615                                              sport  Terengganu   \n",
       "24616                          nobody want teman jogging  Terengganu   \n",
       "24617                           footballtweet potter 1st  Terengganu   \n",
       "24618  smartwatch one better sport ea garmin amazfit ...  Terengganu   \n",
       "24619  king pele former youth sport minister khairykj...  Terengganu   \n",
       "\n",
       "         interest  text_len  \n",
       "0      Technology        28  \n",
       "1      Technology        28  \n",
       "2      Technology        30  \n",
       "3      Technology        31  \n",
       "4      Technology        25  \n",
       "...           ...       ...  \n",
       "24615      Sports         1  \n",
       "24616      Sports         4  \n",
       "24617      Sports         3  \n",
       "24618      Sports         9  \n",
       "24619      Sports        11  \n",
       "\n",
       "[24620 rows x 4 columns]"
      ]
     },
     "execution_count": 30,
     "metadata": {},
     "output_type": "execute_result"
    }
   ],
   "source": [
    "#calculating the length of headlines and descriptions\n",
    "df['text_len'] = df['text'].apply(lambda x: len(str(x).split()))\n",
    "df"
   ]
  },
  {
   "cell_type": "code",
   "execution_count": 31,
   "metadata": {},
   "outputs": [
    {
     "name": "stderr",
     "output_type": "stream",
     "text": [
      "C:\\Users\\Izzham Burhan\\AppData\\Local\\Temp\\ipykernel_21496\\1503237925.py:1: UserWarning: \n",
      "\n",
      "`distplot` is a deprecated function and will be removed in seaborn v0.14.0.\n",
      "\n",
      "Please adapt your code to use either `displot` (a figure-level function with\n",
      "similar flexibility) or `histplot` (an axes-level function for histograms).\n",
      "\n",
      "For a guide to updating your code to use the new functions, please see\n",
      "https://gist.github.com/mwaskom/de44147ed2974457ad6372750bbe5751\n",
      "\n",
      "  sns.distplot(df['text_len'])\n"
     ]
    },
    {
     "data": {
      "image/png": "[encoded data removed]",
      "text/plain": [
       "<Figure size 640x480 with 1 Axes>"
      ]
     },
     "metadata": {},
     "output_type": "display_data"
    }
   ],
   "source": [
    "sns.distplot(df['text_len'])\n",
    "plt.title('Text Number of Words')\n",
    "plt.show()"
   ]
  },
  {
   "cell_type": "code",
   "execution_count": 32,
   "metadata": {},
   "outputs": [
    {
     "data": {
      "text/plain": [
       "Entertainment    0.190699\n",
       "Education        0.186474\n",
       "Technology       0.169009\n",
       "Sports           0.158570\n",
       "FoodnDrink       0.149391\n",
       "Politics         0.145857\n",
       "Name: interest, dtype: float64"
      ]
     },
     "execution_count": 32,
     "metadata": {},
     "output_type": "execute_result"
    }
   ],
   "source": [
    "# check class distribution\n",
    "df['interest'].value_counts(normalize=True)"
   ]
  },
  {
   "cell_type": "code",
   "execution_count": 33,
   "metadata": {},
   "outputs": [],
   "source": [
    "# split dataset into train and test sets\n",
    "train_text, test_text, train_labels, test_labels = train_test_split(\n",
    "    df['text'],\n",
    "    df['interest'],\n",
    "    random_state=2018,\n",
    "    test_size=0.3,  # Adjust the test size as needed\n",
    "    stratify=df['interest']\n",
    ")"
   ]
  },
  {
   "cell_type": "code",
   "execution_count": 34,
   "metadata": {},
   "outputs": [],
   "source": [
    "# import BERT-base pretrained model\n",
    "bert = AutoModel.from_pretrained('bert-base-uncased')\n",
    "\n",
    "# Load the BERT tokenizer\n",
    "tokenizer = BertTokenizerFast.from_pretrained('bert-base-uncased')\n"
   ]
  },
  {
   "cell_type": "code",
   "execution_count": 35,
   "metadata": {},
   "outputs": [
    {
     "data": {
      "text/plain": [
       "<Axes: >"
      ]
     },
     "execution_count": 35,
     "metadata": {},
     "output_type": "execute_result"
    },
    {
     "data": {
      "image/png": "[encoded data removed]",
      "text/plain": [
       "<Figure size 640x480 with 1 Axes>"
      ]
     },
     "metadata": {},
     "output_type": "display_data"
    }
   ],
   "source": [
    "# get length of all the messages in the train set\n",
    "seq_len = [len(i.split()) for i in train_text]\n",
    "\n",
    "pd.Series(seq_len).hist(bins=30)"
   ]
  },
  {
   "cell_type": "markdown",
   "metadata": {},
   "source": [
    "Tokenize & encode the sequences"
   ]
  },
  {
   "cell_type": "code",
   "execution_count": 36,
   "metadata": {},
   "outputs": [
    {
     "name": "stderr",
     "output_type": "stream",
     "text": [
      "c:\\Users\\Izzham Burhan\\AppData\\Local\\Programs\\Python\\Python311\\Lib\\site-packages\\transformers\\tokenization_utils_base.py:2418: FutureWarning: The `pad_to_max_length` argument is deprecated and will be removed in a future version, use `padding=True` or `padding='longest'` to pad to the longest sequence in the batch, or use `padding='max_length'` to pad to a max length. In this case, you can give a specific length with `max_length` (e.g. `max_length=45`) or leave max_length to None to pad to the maximal input size of the model (e.g. 512 for Bert).\n",
      "  warnings.warn(\n"
     ]
    }
   ],
   "source": [
    "# tokenize and encode sequences in the training set\n",
    "tokens_train = tokenizer.batch_encode_plus(\n",
    "    train_text.tolist(),\n",
    "    max_length=25,\n",
    "    pad_to_max_length=True,\n",
    "    truncation=True\n",
    ")\n",
    "\n",
    "# tokenize and encode sequences in the test set\n",
    "tokens_test = tokenizer.batch_encode_plus(\n",
    "    test_text.tolist(),\n",
    "    max_length=25,\n",
    "    pad_to_max_length=True,\n",
    "    truncation=True\n",
    ")"
   ]
  },
  {
   "cell_type": "markdown",
   "metadata": {},
   "source": [
    "List to Tensors"
   ]
  },
  {
   "cell_type": "code",
   "execution_count": 37,
   "metadata": {},
   "outputs": [],
   "source": [
    "# Initialize the label encoder\n",
    "label_encoder = LabelEncoder()\n",
    "\n",
    "# Fit and transform the labels for the training data\n",
    "train_labels_encoded = label_encoder.fit_transform(train_labels)\n",
    "train_y = torch.tensor(train_labels_encoded, dtype=torch.long)\n",
    "\n",
    "# Encode your labels using LabelEncoder for the test data\n",
    "test_labels_encoded = label_encoder.transform(test_labels)\n",
    "test_y = torch.tensor(test_labels_encoded, dtype=torch.long)\n"
   ]
  },
  {
   "cell_type": "code",
   "execution_count": 38,
   "metadata": {},
   "outputs": [],
   "source": [
    "# wrap tensors for training data\n",
    "train_seq = torch.tensor(tokens_train['input_ids'])\n",
    "train_mask = torch.tensor(tokens_train['attention_mask'])\n",
    "\n",
    "# wrap tensors for test data\n",
    "test_seq = torch.tensor(tokens_test['input_ids'])\n",
    "test_mask = torch.tensor(tokens_test['attention_mask'])"
   ]
  },
  {
   "cell_type": "markdown",
   "metadata": {},
   "source": [
    "Data Loader"
   ]
  },
  {
   "cell_type": "code",
   "execution_count": 39,
   "metadata": {},
   "outputs": [],
   "source": [
    "# define a batch size\n",
    "batch_size = 32\n",
    "\n",
    "# wrap tensors for training data\n",
    "train_data = TensorDataset(train_seq, train_mask, train_y)\n",
    "# sampler for sampling the data during training\n",
    "train_sampler = RandomSampler(train_data)\n",
    "# dataLoader for train set\n",
    "train_dataloader = DataLoader(train_data, sampler=train_sampler, batch_size=batch_size)\n",
    "\n",
    "# wrap tensors for test data\n",
    "test_data = TensorDataset(test_seq, test_mask, test_y)\n",
    "# sampler for sampling the data during testing\n",
    "test_sampler = SequentialSampler(test_data)\n",
    "# dataLoader for test set\n",
    "test_dataloader = DataLoader(test_data, sampler=test_sampler, batch_size=batch_size)"
   ]
  },
  {
   "cell_type": "markdown",
   "metadata": {},
   "source": [
    "Model Architecture"
   ]
  },
  {
   "cell_type": "code",
   "execution_count": 40,
   "metadata": {},
   "outputs": [],
   "source": [
    "# freeze all the parameters\n",
    "for param in bert.parameters():\n",
    "    param.requires_grad = False"
   ]
  },
  {
   "cell_type": "code",
   "execution_count": 41,
   "metadata": {},
   "outputs": [],
   "source": [
    "# Define your neural network architecture\n",
    "class BERT_Arch(nn.Module):\n",
    "    def __init__(self, bert, num_classes):\n",
    "        super(BERT_Arch, self).__init__()\n",
    "        self.bert = bert\n",
    "        self.dropout = nn.Dropout(0.1)\n",
    "        self.relu = nn.ReLU()\n",
    "        self.fc1 = nn.Linear(768, 512)\n",
    "        self.fc2 = nn.Linear(512, num_classes)  \n",
    "        self.softmax = nn.LogSoftmax(dim=1)\n",
    "\n",
    "    def forward(self, sent_id, mask):\n",
    "        _, cls_hs = self.bert(sent_id, attention_mask=mask, return_dict=False)\n",
    "        x = self.fc1(cls_hs)\n",
    "        x = self.relu(x)\n",
    "        x = self.dropout(x)\n",
    "        x = self.fc2(x)\n",
    "        x = self.softmax(x)\n",
    "        return x"
   ]
  },
  {
   "cell_type": "code",
   "execution_count": 42,
   "metadata": {},
   "outputs": [],
   "source": [
    "# Create the model\n",
    "num_classes = 6 # Define the number of classes\n",
    "model = BERT_Arch(bert, num_classes)\n",
    "\n",
    "# push the model to GPU\n",
    "model = model.to(device)"
   ]
  },
  {
   "cell_type": "code",
   "execution_count": 43,
   "metadata": {},
   "outputs": [
    {
     "name": "stderr",
     "output_type": "stream",
     "text": [
      "c:\\Users\\Izzham Burhan\\AppData\\Local\\Programs\\Python\\Python311\\Lib\\site-packages\\transformers\\optimization.py:411: FutureWarning: This implementation of AdamW is deprecated and will be removed in a future version. Use the PyTorch implementation torch.optim.AdamW instead, or set `no_deprecation_warning=True` to disable this warning\n",
      "  warnings.warn(\n"
     ]
    }
   ],
   "source": [
    "# optimizer from hugging face transformers\n",
    "optimizer = transformers.AdamW(model.parameters(), lr=1e-5)"
   ]
  },
  {
   "cell_type": "code",
   "execution_count": 44,
   "metadata": {},
   "outputs": [
    {
     "name": "stdout",
     "output_type": "stream",
     "text": [
      "Class Weights: [0.89369425 0.8741124  1.11590262 1.14253514 1.05098183 0.98603959]\n"
     ]
    }
   ],
   "source": [
    "from sklearn.utils.class_weight import compute_class_weight  \n",
    "# Calculate class weights\n",
    "class_weights = compute_class_weight(class_weight='balanced', classes=np.unique(train_labels_encoded), y=train_labels_encoded)\n",
    "weights = torch.tensor(class_weights, dtype=torch.float32)\n",
    "\n",
    "# converting list of class weights to a tensor\n",
    "weights = torch.tensor(class_weights, dtype=torch.float32)\n",
    "\n",
    "print(\"Class Weights:\", class_weights)\n"
   ]
  },
  {
   "cell_type": "code",
   "execution_count": 45,
   "metadata": {},
   "outputs": [],
   "source": [
    "# define the loss function\n",
    "cross_entropy = nn.NLLLoss(weight=weights)\n",
    "\n",
    "# number of training epochs\n",
    "epochs = 10"
   ]
  },
  {
   "cell_type": "markdown",
   "metadata": {},
   "source": [
    "Fine - Tune"
   ]
  },
  {
   "cell_type": "code",
   "execution_count": 46,
   "metadata": {},
   "outputs": [],
   "source": [
    "def train():\n",
    "    model.train()\n",
    "    total_loss, total_accuracy = 0, 0\n",
    "    total_preds = []\n",
    "\n",
    "    for step, batch in enumerate(train_dataloader):\n",
    "        if step % 50 == 0 and not step == 0:\n",
    "            print('Batch {:>5,} of {:>5,}.'.format(step, len(train_dataloader)))\n",
    "\n",
    "        sent_id, mask, labels = batch\n",
    "\n",
    "        model.zero_grad()\n",
    "        preds = model(sent_id, mask)\n",
    "\n",
    "        loss = cross_entropy(preds, labels)\n",
    "        total_loss = total_loss + loss.item()\n",
    "        loss.backward()\n",
    "        optimizer.step()\n",
    "        preds = preds.detach().numpy()\n",
    "        total_preds.append(preds)\n",
    "\n",
    "    avg_loss = total_loss / len(train_dataloader)\n",
    "    total_preds = np.concatenate(total_preds, axis=0)\n",
    "\n",
    "    return avg_loss, total_preds"
   ]
  },
  {
   "cell_type": "code",
   "execution_count": 51,
   "metadata": {},
   "outputs": [],
   "source": [
    "def evaluate():\n",
    "    print(\"\\nEvaluating...\")\n",
    "    model.eval()\n",
    "    total_loss, total_accuracy = 0, 0\n",
    "    total_preds = []\n",
    "\n",
    "    for step, batch in enumerate(test_dataloader):\n",
    "        if step % 50 == 0 and not step == 0:\n",
    "            print('  Batch {:>5,}  of  {:>5,}.'.format(step, len(test_dataloader)))\n",
    "\n",
    "        batch = [t.to(device) for t in batch]\n",
    "        sent_id, mask, labels = batch\n",
    "\n",
    "        with torch.no_grad():\n",
    "            preds = model(sent_id, mask)\n",
    "            loss = cross_entropy(preds, labels)\n",
    "            total_loss = total_loss + loss.item()\n",
    "            preds = preds.detach().cpu().numpy()\n",
    "            total_preds.append(preds)\n",
    "\n",
    "    avg_loss = total_loss / len(test_dataloader)\n",
    "    total_preds = np.concatenate(total_preds, axis=0)\n",
    "\n",
    "    return avg_loss, total_preds\n",
    "\n",
    "\n",
    "def evaluate_with_embeddings():\n",
    "    print(\"\\nEvaluating with Embeddings...\")\n",
    "    model.eval()\n",
    "    total_loss, total_preds, embeddings_list, text_list = 0, [], [], []\n",
    "\n",
    "    for step, batch in enumerate(test_dataloader):\n",
    "        if step % 50 == 0 and not step == 0:\n",
    "            print('  Batch {:>5,}  of  {:>5,}.'.format(step, len(test_dataloader)))\n",
    "\n",
    "        batch = [t.to(device) for t in batch]\n",
    "        sent_id, mask, labels = batch\n",
    "\n",
    "        with torch.no_grad():\n",
    "            preds = model(sent_id, mask)\n",
    "            loss = cross_entropy(preds, labels)\n",
    "            total_loss = total_loss + loss.item()\n",
    "            total_preds.append(preds)\n",
    "\n",
    "            # Get text and embeddings\n",
    "            text_list.extend(test_text[step * batch_size : (step + 1) * batch_size])  # Assuming test_text is a list of texts\n",
    "            embeddings_list.extend(preds.detach().cpu().numpy())  # Assuming preds is the embeddings you want to extract\n",
    "\n",
    "    avg_loss = total_loss / len(test_dataloader)\n",
    "    total_preds = np.concatenate(total_preds, axis=0)\n",
    "\n",
    "    return avg_loss, total_preds, text_list, embeddings_list"
   ]
  },
  {
   "cell_type": "code",
   "execution_count": 52,
   "metadata": {},
   "outputs": [
    {
     "name": "stdout",
     "output_type": "stream",
     "text": [
      "\n",
      " Epoch 1 / 1\n",
      "Batch    50 of   539.\n",
      "Batch   100 of   539.\n",
      "Batch   150 of   539.\n",
      "Batch   200 of   539.\n",
      "Batch   250 of   539.\n",
      "Batch   300 of   539.\n",
      "Batch   350 of   539.\n",
      "Batch   400 of   539.\n",
      "Batch   450 of   539.\n",
      "Batch   500 of   539.\n",
      "\n",
      "Evaluating...\n",
      "  Batch    50  of    231.\n",
      "  Batch   100  of    231.\n",
      "  Batch   150  of    231.\n",
      "  Batch   200  of    231.\n",
      "\n",
      "Training Loss: 1.703\n",
      "Validation Loss: 1.670\n"
     ]
    }
   ],
   "source": [
    "# set initial loss to infinite\n",
    "best_valid_loss = float('inf')\n",
    "\n",
    "train_losses = []\n",
    "valid_losses = []\n",
    "\n",
    "# empty lists to store training and validation loss of each epoch\n",
    "for epoch in range(epochs):\n",
    "     \n",
    "    print('\\n Epoch {:} / {:}'.format(epoch + 1, epochs))\n",
    "    \n",
    "    # train model\n",
    "    train_loss, _ = train()\n",
    "    \n",
    "    # evaluate model\n",
    "    valid_loss, _ = evaluate()\n",
    "    \n",
    "    # save the best model\n",
    "    if valid_loss < best_valid_loss:\n",
    "        best_valid_loss = valid_loss\n",
    "        torch.save(model.state_dict(), 'saved_weights.pt')\n",
    "    \n",
    "    # append training and validation loss\n",
    "    train_losses.append(train_loss)\n",
    "    valid_losses.append(valid_loss)\n",
    "    \n",
    "    print(f'\\nTraining Loss: {train_loss:.3f}')\n",
    "    print(f'Validation Loss: {valid_loss:.3f}')"
   ]
  },
  {
   "cell_type": "code",
   "execution_count": 53,
   "metadata": {},
   "outputs": [
    {
     "data": {
      "text/plain": [
       "<All keys matched successfully>"
      ]
     },
     "execution_count": 53,
     "metadata": {},
     "output_type": "execute_result"
    }
   ],
   "source": [
    "# load weights of the best model\n",
    "path = 'saved_weights.pt'\n",
    "model.load_state_dict(torch.load(path))"
   ]
  },
  {
   "cell_type": "code",
   "execution_count": 55,
   "metadata": {},
   "outputs": [
    {
     "name": "stdout",
     "output_type": "stream",
     "text": [
      "\n",
      "Evaluating with Embeddings...\n",
      "  Batch    50  of    231.\n",
      "  Batch   100  of    231.\n",
      "  Batch   150  of    231.\n",
      "  Batch   200  of    231.\n"
     ]
    }
   ],
   "source": [
    "# # get predictions for test data\n",
    "# with torch.no_grad():\n",
    "#     preds = model(test_seq.to(device), test_mask.to(device))\n",
    "#     preds = preds.detach().cpu().numpy()\n",
    "\n",
    "with torch.no_grad():\n",
    "    preds, _, text_list, embeddings_list = evaluate_with_embeddings()\n",
    "\n",
    "# Assuming 'interest' is the column with actual interests in the original DataFrame\n",
    "actual_interests = test_labels.tolist()\n",
    "\n",
    "# Create a DataFrame with actual interests, predicted interests, text, and embeddings\n",
    "results_df = pd.DataFrame({'Actual_Interest': actual_interests, 'Predicted_Interest': preds, 'Text': text_list, 'Embeddings': embeddings_list})\n",
    "\n",
    "# Add the original test dataset to the DataFrame if needed\n",
    "test_data_df = pd.DataFrame({'Text': test_text, 'Actual_Interest': actual_interests})\n",
    "results_df = pd.concat([results_df, test_data_df], axis=1)"
   ]
  },
  {
   "cell_type": "code",
   "execution_count": 56,
   "metadata": {},
   "outputs": [
    {
     "data": {
      "text/html": [
       "<div>\n",
       "<style scoped>\n",
       "    .dataframe tbody tr th:only-of-type {\n",
       "        vertical-align: middle;\n",
       "    }\n",
       "\n",
       "    .dataframe tbody tr th {\n",
       "        vertical-align: top;\n",
       "    }\n",
       "\n",
       "    .dataframe thead th {\n",
       "        text-align: right;\n",
       "    }\n",
       "</style>\n",
       "<table border=\"1\" class=\"dataframe\">\n",
       "  <thead>\n",
       "    <tr style=\"text-align: right;\">\n",
       "      <th></th>\n",
       "      <th>Actual_Interest</th>\n",
       "      <th>Predicted_Interest</th>\n",
       "      <th>Text</th>\n",
       "      <th>Embeddings</th>\n",
       "      <th>Text</th>\n",
       "      <th>Actual_Interest</th>\n",
       "    </tr>\n",
       "  </thead>\n",
       "  <tbody>\n",
       "    <tr>\n",
       "      <th>0</th>\n",
       "      <td>Education</td>\n",
       "      <td>1.670305</td>\n",
       "      <td>fadhlinasiddiq starting get feeling main focus...</td>\n",
       "      <td>[-1.8351346, -1.7061007, -1.9038793, -1.702289...</td>\n",
       "      <td>NaN</td>\n",
       "      <td>NaN</td>\n",
       "    </tr>\n",
       "    <tr>\n",
       "      <th>1</th>\n",
       "      <td>FoodnDrink</td>\n",
       "      <td>1.670305</td>\n",
       "      <td>20 teh tarik pulled tea    hot milk tea like k...</td>\n",
       "      <td>[-1.8531061, -1.8432728, -1.7047919, -1.720423...</td>\n",
       "      <td>mosti cradle ni clueless whats going  tech tal...</td>\n",
       "      <td>Technology</td>\n",
       "    </tr>\n",
       "    <tr>\n",
       "      <th>2</th>\n",
       "      <td>Politics</td>\n",
       "      <td>1.670305</td>\n",
       "      <td>melgohcna imagine  dont chinese  ever recogniz...</td>\n",
       "      <td>[-1.787531, -1.801147, -1.8092394, -1.6822101,...</td>\n",
       "      <td>NaN</td>\n",
       "      <td>NaN</td>\n",
       "    </tr>\n",
       "    <tr>\n",
       "      <th>3</th>\n",
       "      <td>Sports</td>\n",
       "      <td>1.670305</td>\n",
       "      <td>buletintv3 think football team worse think kel...</td>\n",
       "      <td>[-1.7959303, -1.8106498, -1.9381902, -1.616795...</td>\n",
       "      <td>tbh  many tech talent dont actually need focus...</td>\n",
       "      <td>Technology</td>\n",
       "    </tr>\n",
       "    <tr>\n",
       "      <th>4</th>\n",
       "      <td>Sports</td>\n",
       "      <td>1.670305</td>\n",
       "      <td>2 world chionship gold medal badminton cheat c...</td>\n",
       "      <td>[-1.7903001, -1.791293, -2.1187992, -1.8503754...</td>\n",
       "      <td>make 180000 tech consultant london grew extrem...</td>\n",
       "      <td>Technology</td>\n",
       "    </tr>\n",
       "    <tr>\n",
       "      <th>...</th>\n",
       "      <td>...</td>\n",
       "      <td>...</td>\n",
       "      <td>...</td>\n",
       "      <td>...</td>\n",
       "      <td>...</td>\n",
       "      <td>...</td>\n",
       "    </tr>\n",
       "    <tr>\n",
       "      <th>18297</th>\n",
       "      <td>NaN</td>\n",
       "      <td>NaN</td>\n",
       "      <td>NaN</td>\n",
       "      <td>NaN</td>\n",
       "      <td>love tues n thurs go school noon japanese clas...</td>\n",
       "      <td>Education</td>\n",
       "    </tr>\n",
       "    <tr>\n",
       "      <th>18912</th>\n",
       "      <td>NaN</td>\n",
       "      <td>NaN</td>\n",
       "      <td>NaN</td>\n",
       "      <td>NaN</td>\n",
       "      <td>abilsuhaimi netflix night school comedy relax ...</td>\n",
       "      <td>Education</td>\n",
       "    </tr>\n",
       "    <tr>\n",
       "      <th>21784</th>\n",
       "      <td>NaN</td>\n",
       "      <td>NaN</td>\n",
       "      <td>NaN</td>\n",
       "      <td>NaN</td>\n",
       "      <td>kinda productive  day went hiking morning laun...</td>\n",
       "      <td>Sports</td>\n",
       "    </tr>\n",
       "    <tr>\n",
       "      <th>7533</th>\n",
       "      <td>NaN</td>\n",
       "      <td>NaN</td>\n",
       "      <td>NaN</td>\n",
       "      <td>NaN</td>\n",
       "      <td>elonmusk rothbard1776 stillgray government edu...</td>\n",
       "      <td>Politics</td>\n",
       "    </tr>\n",
       "    <tr>\n",
       "      <th>15587</th>\n",
       "      <td>NaN</td>\n",
       "      <td>NaN</td>\n",
       "      <td>NaN</td>\n",
       "      <td>NaN</td>\n",
       "      <td>hi recommendation halal mee kolok kuching nice...</td>\n",
       "      <td>FoodnDrink</td>\n",
       "    </tr>\n",
       "  </tbody>\n",
       "</table>\n",
       "<p>12543 rows × 6 columns</p>\n",
       "</div>"
      ],
      "text/plain": [
       "      Actual_Interest  Predicted_Interest  \\\n",
       "0           Education            1.670305   \n",
       "1          FoodnDrink            1.670305   \n",
       "2            Politics            1.670305   \n",
       "3              Sports            1.670305   \n",
       "4              Sports            1.670305   \n",
       "...               ...                 ...   \n",
       "18297             NaN                 NaN   \n",
       "18912             NaN                 NaN   \n",
       "21784             NaN                 NaN   \n",
       "7533              NaN                 NaN   \n",
       "15587             NaN                 NaN   \n",
       "\n",
       "                                                    Text  \\\n",
       "0      fadhlinasiddiq starting get feeling main focus...   \n",
       "1      20 teh tarik pulled tea    hot milk tea like k...   \n",
       "2      melgohcna imagine  dont chinese  ever recogniz...   \n",
       "3      buletintv3 think football team worse think kel...   \n",
       "4      2 world chionship gold medal badminton cheat c...   \n",
       "...                                                  ...   \n",
       "18297                                                NaN   \n",
       "18912                                                NaN   \n",
       "21784                                                NaN   \n",
       "7533                                                 NaN   \n",
       "15587                                                NaN   \n",
       "\n",
       "                                              Embeddings  \\\n",
       "0      [-1.8351346, -1.7061007, -1.9038793, -1.702289...   \n",
       "1      [-1.8531061, -1.8432728, -1.7047919, -1.720423...   \n",
       "2      [-1.787531, -1.801147, -1.8092394, -1.6822101,...   \n",
       "3      [-1.7959303, -1.8106498, -1.9381902, -1.616795...   \n",
       "4      [-1.7903001, -1.791293, -2.1187992, -1.8503754...   \n",
       "...                                                  ...   \n",
       "18297                                                NaN   \n",
       "18912                                                NaN   \n",
       "21784                                                NaN   \n",
       "7533                                                 NaN   \n",
       "15587                                                NaN   \n",
       "\n",
       "                                                    Text Actual_Interest  \n",
       "0                                                    NaN             NaN  \n",
       "1      mosti cradle ni clueless whats going  tech tal...      Technology  \n",
       "2                                                    NaN             NaN  \n",
       "3      tbh  many tech talent dont actually need focus...      Technology  \n",
       "4      make 180000 tech consultant london grew extrem...      Technology  \n",
       "...                                                  ...             ...  \n",
       "18297  love tues n thurs go school noon japanese clas...       Education  \n",
       "18912  abilsuhaimi netflix night school comedy relax ...       Education  \n",
       "21784  kinda productive  day went hiking morning laun...          Sports  \n",
       "7533   elonmusk rothbard1776 stillgray government edu...        Politics  \n",
       "15587  hi recommendation halal mee kolok kuching nice...      FoodnDrink  \n",
       "\n",
       "[12543 rows x 6 columns]"
      ]
     },
     "execution_count": 56,
     "metadata": {},
     "output_type": "execute_result"
    }
   ],
   "source": [
    "results_df"
   ]
  },
  {
   "cell_type": "code",
   "execution_count": 58,
   "metadata": {},
   "outputs": [],
   "source": [
    "with torch.no_grad():\n",
    "    preds = model(test_seq.to(device), test_mask.to(device))\n",
    "    preds = preds.detach().cpu().numpy()"
   ]
  },
  {
   "cell_type": "code",
   "execution_count": 59,
   "metadata": {},
   "outputs": [
    {
     "name": "stdout",
     "output_type": "stream",
     "text": [
      "              precision    recall  f1-score   support\n",
      "\n",
      "           0       0.72      0.10      0.17      1377\n",
      "           1       0.49      0.54      0.51      1409\n",
      "           2       0.55      0.41      0.47      1104\n",
      "           3       0.38      0.81      0.51      1077\n",
      "           4       0.54      0.42      0.47      1171\n",
      "           5       0.44      0.57      0.50      1248\n",
      "\n",
      "    accuracy                           0.46      7386\n",
      "   macro avg       0.52      0.47      0.44      7386\n",
      "weighted avg       0.52      0.46      0.43      7386\n",
      "\n"
     ]
    }
   ],
   "source": [
    "# model's performance\n",
    "preds = np.argmax(preds, axis=1)\n",
    "print(classification_report(test_y, preds))"
   ]
  },
  {
   "cell_type": "code",
   "execution_count": null,
   "metadata": {},
   "outputs": [],
   "source": [
    "# # Create a DataFrame to store the results\n",
    "# results_df = pd.DataFrame(columns=['Index', 'Text', 'Actual Interest', 'Predicted Interest'])"
   ]
  },
  {
   "cell_type": "code",
   "execution_count": null,
   "metadata": {},
   "outputs": [
    {
     "data": {
      "text/html": [
       "<div>\n",
       "<style scoped>\n",
       "    .dataframe tbody tr th:only-of-type {\n",
       "        vertical-align: middle;\n",
       "    }\n",
       "\n",
       "    .dataframe tbody tr th {\n",
       "        vertical-align: top;\n",
       "    }\n",
       "\n",
       "    .dataframe thead th {\n",
       "        text-align: right;\n",
       "    }\n",
       "</style>\n",
       "<table border=\"1\" class=\"dataframe\">\n",
       "  <thead>\n",
       "    <tr style=\"text-align: right;\">\n",
       "      <th></th>\n",
       "      <th>Index</th>\n",
       "      <th>Text</th>\n",
       "      <th>Actual Interest</th>\n",
       "      <th>Predicted Interest</th>\n",
       "    </tr>\n",
       "  </thead>\n",
       "  <tbody>\n",
       "    <tr>\n",
       "      <th>0</th>\n",
       "      <td>0</td>\n",
       "      <td>fadhlinasiddiq starting get feeling main focus...</td>\n",
       "      <td>Education</td>\n",
       "      <td>Entertainment</td>\n",
       "    </tr>\n",
       "    <tr>\n",
       "      <th>1</th>\n",
       "      <td>1</td>\n",
       "      <td>20 teh tarik pulled tea    hot milk tea like k...</td>\n",
       "      <td>FoodnDrink</td>\n",
       "      <td>FoodnDrink</td>\n",
       "    </tr>\n",
       "    <tr>\n",
       "      <th>2</th>\n",
       "      <td>2</td>\n",
       "      <td>melgohcna imagine  dont chinese  ever recogniz...</td>\n",
       "      <td>Politics</td>\n",
       "      <td>Politics</td>\n",
       "    </tr>\n",
       "    <tr>\n",
       "      <th>3</th>\n",
       "      <td>3</td>\n",
       "      <td>buletintv3 think football team worse think kel...</td>\n",
       "      <td>Sports</td>\n",
       "      <td>Politics</td>\n",
       "    </tr>\n",
       "    <tr>\n",
       "      <th>4</th>\n",
       "      <td>4</td>\n",
       "      <td>2 world chionship gold medal badminton cheat c...</td>\n",
       "      <td>Sports</td>\n",
       "      <td>Sports</td>\n",
       "    </tr>\n",
       "    <tr>\n",
       "      <th>...</th>\n",
       "      <td>...</td>\n",
       "      <td>...</td>\n",
       "      <td>...</td>\n",
       "      <td>...</td>\n",
       "    </tr>\n",
       "    <tr>\n",
       "      <th>7381</th>\n",
       "      <td>7381</td>\n",
       "      <td>abilsuhaimi netflix night school comedy relax ...</td>\n",
       "      <td>Education</td>\n",
       "      <td>Entertainment</td>\n",
       "    </tr>\n",
       "    <tr>\n",
       "      <th>7382</th>\n",
       "      <td>7382</td>\n",
       "      <td>familiar linux system r programming requiremen...</td>\n",
       "      <td>Technology</td>\n",
       "      <td>Technology</td>\n",
       "    </tr>\n",
       "    <tr>\n",
       "      <th>7383</th>\n",
       "      <td>7383</td>\n",
       "      <td>kinda productive  day went hiking morning laun...</td>\n",
       "      <td>Sports</td>\n",
       "      <td>FoodnDrink</td>\n",
       "    </tr>\n",
       "    <tr>\n",
       "      <th>7384</th>\n",
       "      <td>7384</td>\n",
       "      <td>elonmusk rothbard1776 stillgray government edu...</td>\n",
       "      <td>Politics</td>\n",
       "      <td>Education</td>\n",
       "    </tr>\n",
       "    <tr>\n",
       "      <th>7385</th>\n",
       "      <td>7385</td>\n",
       "      <td>hi recommendation halal mee kolok kuching nice...</td>\n",
       "      <td>FoodnDrink</td>\n",
       "      <td>FoodnDrink</td>\n",
       "    </tr>\n",
       "  </tbody>\n",
       "</table>\n",
       "<p>7386 rows × 4 columns</p>\n",
       "</div>"
      ],
      "text/plain": [
       "      Index                                               Text  \\\n",
       "0         0  fadhlinasiddiq starting get feeling main focus...   \n",
       "1         1  20 teh tarik pulled tea    hot milk tea like k...   \n",
       "2         2  melgohcna imagine  dont chinese  ever recogniz...   \n",
       "3         3  buletintv3 think football team worse think kel...   \n",
       "4         4  2 world chionship gold medal badminton cheat c...   \n",
       "...     ...                                                ...   \n",
       "7381   7381  abilsuhaimi netflix night school comedy relax ...   \n",
       "7382   7382  familiar linux system r programming requiremen...   \n",
       "7383   7383  kinda productive  day went hiking morning laun...   \n",
       "7384   7384  elonmusk rothbard1776 stillgray government edu...   \n",
       "7385   7385  hi recommendation halal mee kolok kuching nice...   \n",
       "\n",
       "     Actual Interest Predicted Interest  \n",
       "0          Education      Entertainment  \n",
       "1         FoodnDrink         FoodnDrink  \n",
       "2           Politics           Politics  \n",
       "3             Sports           Politics  \n",
       "4             Sports             Sports  \n",
       "...              ...                ...  \n",
       "7381       Education      Entertainment  \n",
       "7382      Technology         Technology  \n",
       "7383          Sports         FoodnDrink  \n",
       "7384        Politics          Education  \n",
       "7385      FoodnDrink         FoodnDrink  \n",
       "\n",
       "[7386 rows x 4 columns]"
      ]
     },
     "execution_count": 33,
     "metadata": {},
     "output_type": "execute_result"
    }
   ],
   "source": [
    "# # Populate the results DataFrame\n",
    "# results_df['Index'] = range(len(test_y))\n",
    "# results_df['Text'] = test_text.tolist()\n",
    "# results_df['Actual Interest'] = label_encoder.inverse_transform(test_y.numpy())\n",
    "# results_df['Predicted Interest'] = label_encoder.inverse_transform(preds)\n",
    "\n",
    "# # Display the results DataFrame\n",
    "# results_df"
   ]
  },
  {
   "cell_type": "code",
   "execution_count": null,
   "metadata": {},
   "outputs": [],
   "source": [
    "# # Save the results to a CSV file if needed\n",
    "# results_df.to_csv('../data/compare/test_results_bert.csv', index=False)"
   ]
  }
 ],
 "metadata": {
  "kernelspec": {
   "display_name": "Python 3",
   "language": "python",
   "name": "python3"
  },
  "language_info": {
   "codemirror_mode": {
    "name": "ipython",
    "version": 3
   },
   "file_extension": ".py",
   "mimetype": "text/x-python",
   "name": "python",
   "nbconvert_exporter": "python",
   "pygments_lexer": "ipython3",
   "version": "3.11.2"
  }
 },
 "nbformat": 4,
 "nbformat_minor": 2
}

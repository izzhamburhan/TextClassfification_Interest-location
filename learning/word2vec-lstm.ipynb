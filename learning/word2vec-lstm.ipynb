{
 "cells": [
  {
   "cell_type": "code",
   "execution_count": 5,
   "metadata": {},
   "outputs": [],
   "source": [
    "# Import everything that will be used\n",
    "from keras.models import Sequential\n",
    "from keras.layers import *\n",
    "from keras.preprocessing.sequence import pad_sequences\n",
    "import gensim\n",
    "import sys\n",
    "import numpy as np\n",
    "import pandas as pd\n",
    "import string\n",
    "import logging\n",
    "import random\n",
    "import matplotlib.pyplot as plt\n",
    "\n",
    "# Loading dataset\n",
    "df = pd.read_csv('../data/cleaned_dataset.csv')\n",
    "# Clean rows with nan text and drop all columns except text and category\n",
    "# df = df.dropna(subset=['text']).iloc[:, [1, 3]]\n",
    "\n",
    "# Create an iterator object that returns words properly formatted for Word2Vec training\n",
    "class NewsIterator:\n",
    "    def __init__(self, dataset):\n",
    "        self.dataset = dataset\n",
    "\n",
    "        # The text contains a stupid special character, hence the + '–'\n",
    "        self.translator = str.maketrans('', '', string.punctuation + '–')\n",
    "\n",
    "    def __iter__(self):\n",
    "        for news in self.dataset.iloc[:, 0]:\n",
    "            # Make all characters lower-case\n",
    "            news = news.lower()\n",
    "            for sentence in news.split('.')[:-1]:\n",
    "                # Clean string of all punctuation\n",
    "                sentence = sentence.translate(self.translator)\n",
    "\n",
    "                words = [w for w in sentence.split(' ') if w != '']\n",
    "\n",
    "                yield words\n",
    "                \n",
    "sentences = NewsIterator(df)"
   ]
  },
  {
   "cell_type": "code",
   "execution_count": 10,
   "metadata": {},
   "outputs": [
    {
     "ename": "AttributeError",
     "evalue": "'float' object has no attribute 'lower'",
     "output_type": "error",
     "traceback": [
      "\u001b[1;31m---------------------------------------------------------------------------\u001b[0m",
      "\u001b[1;31mAttributeError\u001b[0m                            Traceback (most recent call last)",
      "\u001b[1;32mc:\\Users\\Izzham Burhan\\Documents\\Python Scripts\\TextClassification-Interestbasedonlocation\\learning\\word2vec-lstm.ipynb Cell 2\u001b[0m line \u001b[0;36m5\n\u001b[0;32m      <a href='vscode-notebook-cell:/c%3A/Users/Izzham%20Burhan/Documents/Python%20Scripts/TextClassification-Interestbasedonlocation/learning/word2vec-lstm.ipynb#W1sZmlsZQ%3D%3D?line=0'>1</a>\u001b[0m \u001b[39m# Set up logging\u001b[39;00m\n\u001b[0;32m      <a href='vscode-notebook-cell:/c%3A/Users/Izzham%20Burhan/Documents/Python%20Scripts/TextClassification-Interestbasedonlocation/learning/word2vec-lstm.ipynb#W1sZmlsZQ%3D%3D?line=1'>2</a>\u001b[0m \u001b[39m#logging.basicConfig(format='%(asctime)s : %(levelname)s : %(message)s', level=logging.INFO)\u001b[39;00m\n\u001b[0;32m      <a href='vscode-notebook-cell:/c%3A/Users/Izzham%20Burhan/Documents/Python%20Scripts/TextClassification-Interestbasedonlocation/learning/word2vec-lstm.ipynb#W1sZmlsZQ%3D%3D?line=2'>3</a>\u001b[0m \n\u001b[0;32m      <a href='vscode-notebook-cell:/c%3A/Users/Izzham%20Burhan/Documents/Python%20Scripts/TextClassification-Interestbasedonlocation/learning/word2vec-lstm.ipynb#W1sZmlsZQ%3D%3D?line=3'>4</a>\u001b[0m \u001b[39m# Train Word2Vec model with gensim on the dataset\u001b[39;00m\n\u001b[1;32m----> <a href='vscode-notebook-cell:/c%3A/Users/Izzham%20Burhan/Documents/Python%20Scripts/TextClassification-Interestbasedonlocation/learning/word2vec-lstm.ipynb#W1sZmlsZQ%3D%3D?line=4'>5</a>\u001b[0m w2v_model \u001b[39m=\u001b[39m gensim\u001b[39m.\u001b[39;49mmodels\u001b[39m.\u001b[39;49mWord2Vec(sentences, window\u001b[39m=\u001b[39;49m\u001b[39m5\u001b[39;49m, min_count\u001b[39m=\u001b[39;49m\u001b[39m10\u001b[39;49m, workers\u001b[39m=\u001b[39;49m\u001b[39m8\u001b[39;49m)\n\u001b[0;32m      <a href='vscode-notebook-cell:/c%3A/Users/Izzham%20Burhan/Documents/Python%20Scripts/TextClassification-Interestbasedonlocation/learning/word2vec-lstm.ipynb#W1sZmlsZQ%3D%3D?line=6'>7</a>\u001b[0m \u001b[39m# Retrieve the weights from the model. This is used for initializing the weights\u001b[39;00m\n\u001b[0;32m      <a href='vscode-notebook-cell:/c%3A/Users/Izzham%20Burhan/Documents/Python%20Scripts/TextClassification-Interestbasedonlocation/learning/word2vec-lstm.ipynb#W1sZmlsZQ%3D%3D?line=7'>8</a>\u001b[0m \u001b[39m# in a Keras Embedding layer later\u001b[39;00m\n\u001b[0;32m      <a href='vscode-notebook-cell:/c%3A/Users/Izzham%20Burhan/Documents/Python%20Scripts/TextClassification-Interestbasedonlocation/learning/word2vec-lstm.ipynb#W1sZmlsZQ%3D%3D?line=8'>9</a>\u001b[0m w2v_weights \u001b[39m=\u001b[39m w2v_model\u001b[39m.\u001b[39mwv\u001b[39m.\u001b[39mvectors\n",
      "File \u001b[1;32mc:\\Users\\Izzham Burhan\\AppData\\Local\\Programs\\Python\\Python311\\Lib\\site-packages\\gensim\\models\\word2vec.py:429\u001b[0m, in \u001b[0;36mWord2Vec.__init__\u001b[1;34m(self, sentences, corpus_file, vector_size, alpha, window, min_count, max_vocab_size, sample, seed, workers, min_alpha, sg, hs, negative, ns_exponent, cbow_mean, hashfxn, epochs, null_word, trim_rule, sorted_vocab, batch_words, compute_loss, callbacks, comment, max_final_vocab, shrink_windows)\u001b[0m\n\u001b[0;32m    427\u001b[0m \u001b[39mif\u001b[39;00m corpus_iterable \u001b[39mis\u001b[39;00m \u001b[39mnot\u001b[39;00m \u001b[39mNone\u001b[39;00m \u001b[39mor\u001b[39;00m corpus_file \u001b[39mis\u001b[39;00m \u001b[39mnot\u001b[39;00m \u001b[39mNone\u001b[39;00m:\n\u001b[0;32m    428\u001b[0m     \u001b[39mself\u001b[39m\u001b[39m.\u001b[39m_check_corpus_sanity(corpus_iterable\u001b[39m=\u001b[39mcorpus_iterable, corpus_file\u001b[39m=\u001b[39mcorpus_file, passes\u001b[39m=\u001b[39m(epochs \u001b[39m+\u001b[39m \u001b[39m1\u001b[39m))\n\u001b[1;32m--> 429\u001b[0m     \u001b[39mself\u001b[39;49m\u001b[39m.\u001b[39;49mbuild_vocab(corpus_iterable\u001b[39m=\u001b[39;49mcorpus_iterable, corpus_file\u001b[39m=\u001b[39;49mcorpus_file, trim_rule\u001b[39m=\u001b[39;49mtrim_rule)\n\u001b[0;32m    430\u001b[0m     \u001b[39mself\u001b[39m\u001b[39m.\u001b[39mtrain(\n\u001b[0;32m    431\u001b[0m         corpus_iterable\u001b[39m=\u001b[39mcorpus_iterable, corpus_file\u001b[39m=\u001b[39mcorpus_file, total_examples\u001b[39m=\u001b[39m\u001b[39mself\u001b[39m\u001b[39m.\u001b[39mcorpus_count,\n\u001b[0;32m    432\u001b[0m         total_words\u001b[39m=\u001b[39m\u001b[39mself\u001b[39m\u001b[39m.\u001b[39mcorpus_total_words, epochs\u001b[39m=\u001b[39m\u001b[39mself\u001b[39m\u001b[39m.\u001b[39mepochs, start_alpha\u001b[39m=\u001b[39m\u001b[39mself\u001b[39m\u001b[39m.\u001b[39malpha,\n\u001b[0;32m    433\u001b[0m         end_alpha\u001b[39m=\u001b[39m\u001b[39mself\u001b[39m\u001b[39m.\u001b[39mmin_alpha, compute_loss\u001b[39m=\u001b[39m\u001b[39mself\u001b[39m\u001b[39m.\u001b[39mcompute_loss, callbacks\u001b[39m=\u001b[39mcallbacks)\n\u001b[0;32m    434\u001b[0m \u001b[39melse\u001b[39;00m:\n",
      "File \u001b[1;32mc:\\Users\\Izzham Burhan\\AppData\\Local\\Programs\\Python\\Python311\\Lib\\site-packages\\gensim\\models\\word2vec.py:491\u001b[0m, in \u001b[0;36mWord2Vec.build_vocab\u001b[1;34m(self, corpus_iterable, corpus_file, update, progress_per, keep_raw_vocab, trim_rule, **kwargs)\u001b[0m\n\u001b[0;32m    453\u001b[0m \u001b[39m\u001b[39m\u001b[39m\"\"\"Build vocabulary from a sequence of sentences (can be a once-only generator stream).\u001b[39;00m\n\u001b[0;32m    454\u001b[0m \n\u001b[0;32m    455\u001b[0m \u001b[39mParameters\u001b[39;00m\n\u001b[1;32m   (...)\u001b[0m\n\u001b[0;32m    488\u001b[0m \n\u001b[0;32m    489\u001b[0m \u001b[39m\"\"\"\u001b[39;00m\n\u001b[0;32m    490\u001b[0m \u001b[39mself\u001b[39m\u001b[39m.\u001b[39m_check_corpus_sanity(corpus_iterable\u001b[39m=\u001b[39mcorpus_iterable, corpus_file\u001b[39m=\u001b[39mcorpus_file, passes\u001b[39m=\u001b[39m\u001b[39m1\u001b[39m)\n\u001b[1;32m--> 491\u001b[0m total_words, corpus_count \u001b[39m=\u001b[39m \u001b[39mself\u001b[39;49m\u001b[39m.\u001b[39;49mscan_vocab(\n\u001b[0;32m    492\u001b[0m     corpus_iterable\u001b[39m=\u001b[39;49mcorpus_iterable, corpus_file\u001b[39m=\u001b[39;49mcorpus_file, progress_per\u001b[39m=\u001b[39;49mprogress_per, trim_rule\u001b[39m=\u001b[39;49mtrim_rule)\n\u001b[0;32m    493\u001b[0m \u001b[39mself\u001b[39m\u001b[39m.\u001b[39mcorpus_count \u001b[39m=\u001b[39m corpus_count\n\u001b[0;32m    494\u001b[0m \u001b[39mself\u001b[39m\u001b[39m.\u001b[39mcorpus_total_words \u001b[39m=\u001b[39m total_words\n",
      "File \u001b[1;32mc:\\Users\\Izzham Burhan\\AppData\\Local\\Programs\\Python\\Python311\\Lib\\site-packages\\gensim\\models\\word2vec.py:586\u001b[0m, in \u001b[0;36mWord2Vec.scan_vocab\u001b[1;34m(self, corpus_iterable, corpus_file, progress_per, workers, trim_rule)\u001b[0m\n\u001b[0;32m    583\u001b[0m \u001b[39mif\u001b[39;00m corpus_file:\n\u001b[0;32m    584\u001b[0m     corpus_iterable \u001b[39m=\u001b[39m LineSentence(corpus_file)\n\u001b[1;32m--> 586\u001b[0m total_words, corpus_count \u001b[39m=\u001b[39m \u001b[39mself\u001b[39;49m\u001b[39m.\u001b[39;49m_scan_vocab(corpus_iterable, progress_per, trim_rule)\n\u001b[0;32m    588\u001b[0m logger\u001b[39m.\u001b[39minfo(\n\u001b[0;32m    589\u001b[0m     \u001b[39m\"\u001b[39m\u001b[39mcollected \u001b[39m\u001b[39m%i\u001b[39;00m\u001b[39m word types from a corpus of \u001b[39m\u001b[39m%i\u001b[39;00m\u001b[39m raw words and \u001b[39m\u001b[39m%i\u001b[39;00m\u001b[39m sentences\u001b[39m\u001b[39m\"\u001b[39m,\n\u001b[0;32m    590\u001b[0m     \u001b[39mlen\u001b[39m(\u001b[39mself\u001b[39m\u001b[39m.\u001b[39mraw_vocab), total_words, corpus_count\n\u001b[0;32m    591\u001b[0m )\n\u001b[0;32m    593\u001b[0m \u001b[39mreturn\u001b[39;00m total_words, corpus_count\n",
      "File \u001b[1;32mc:\\Users\\Izzham Burhan\\AppData\\Local\\Programs\\Python\\Python311\\Lib\\site-packages\\gensim\\models\\word2vec.py:555\u001b[0m, in \u001b[0;36mWord2Vec._scan_vocab\u001b[1;34m(self, sentences, progress_per, trim_rule)\u001b[0m\n\u001b[0;32m    553\u001b[0m vocab \u001b[39m=\u001b[39m defaultdict(\u001b[39mint\u001b[39m)\n\u001b[0;32m    554\u001b[0m checked_string_types \u001b[39m=\u001b[39m \u001b[39m0\u001b[39m\n\u001b[1;32m--> 555\u001b[0m \u001b[39mfor\u001b[39;00m sentence_no, sentence \u001b[39min\u001b[39;00m \u001b[39menumerate\u001b[39m(sentences):\n\u001b[0;32m    556\u001b[0m     \u001b[39mif\u001b[39;00m \u001b[39mnot\u001b[39;00m checked_string_types:\n\u001b[0;32m    557\u001b[0m         \u001b[39mif\u001b[39;00m \u001b[39misinstance\u001b[39m(sentence, \u001b[39mstr\u001b[39m):\n",
      "\u001b[1;32mc:\\Users\\Izzham Burhan\\Documents\\Python Scripts\\TextClassification-Interestbasedonlocation\\learning\\word2vec-lstm.ipynb Cell 2\u001b[0m line \u001b[0;36m3\n\u001b[0;32m     <a href='vscode-notebook-cell:/c%3A/Users/Izzham%20Burhan/Documents/Python%20Scripts/TextClassification-Interestbasedonlocation/learning/word2vec-lstm.ipynb#W1sZmlsZQ%3D%3D?line=26'>27</a>\u001b[0m \u001b[39mdef\u001b[39;00m \u001b[39m__iter__\u001b[39m(\u001b[39mself\u001b[39m):\n\u001b[0;32m     <a href='vscode-notebook-cell:/c%3A/Users/Izzham%20Burhan/Documents/Python%20Scripts/TextClassification-Interestbasedonlocation/learning/word2vec-lstm.ipynb#W1sZmlsZQ%3D%3D?line=27'>28</a>\u001b[0m     \u001b[39mfor\u001b[39;00m news \u001b[39min\u001b[39;00m \u001b[39mself\u001b[39m\u001b[39m.\u001b[39mdataset\u001b[39m.\u001b[39miloc[:, \u001b[39m0\u001b[39m]:\n\u001b[0;32m     <a href='vscode-notebook-cell:/c%3A/Users/Izzham%20Burhan/Documents/Python%20Scripts/TextClassification-Interestbasedonlocation/learning/word2vec-lstm.ipynb#W1sZmlsZQ%3D%3D?line=28'>29</a>\u001b[0m         \u001b[39m# Make all characters lower-case\u001b[39;00m\n\u001b[1;32m---> <a href='vscode-notebook-cell:/c%3A/Users/Izzham%20Burhan/Documents/Python%20Scripts/TextClassification-Interestbasedonlocation/learning/word2vec-lstm.ipynb#W1sZmlsZQ%3D%3D?line=29'>30</a>\u001b[0m         news \u001b[39m=\u001b[39m news\u001b[39m.\u001b[39;49mlower()\n\u001b[0;32m     <a href='vscode-notebook-cell:/c%3A/Users/Izzham%20Burhan/Documents/Python%20Scripts/TextClassification-Interestbasedonlocation/learning/word2vec-lstm.ipynb#W1sZmlsZQ%3D%3D?line=30'>31</a>\u001b[0m         \u001b[39mfor\u001b[39;00m sentence \u001b[39min\u001b[39;00m news\u001b[39m.\u001b[39msplit(\u001b[39m'\u001b[39m\u001b[39m.\u001b[39m\u001b[39m'\u001b[39m)[:\u001b[39m-\u001b[39m\u001b[39m1\u001b[39m]:\n\u001b[0;32m     <a href='vscode-notebook-cell:/c%3A/Users/Izzham%20Burhan/Documents/Python%20Scripts/TextClassification-Interestbasedonlocation/learning/word2vec-lstm.ipynb#W1sZmlsZQ%3D%3D?line=31'>32</a>\u001b[0m             \u001b[39m# Clean string of all punctuation\u001b[39;00m\n\u001b[0;32m     <a href='vscode-notebook-cell:/c%3A/Users/Izzham%20Burhan/Documents/Python%20Scripts/TextClassification-Interestbasedonlocation/learning/word2vec-lstm.ipynb#W1sZmlsZQ%3D%3D?line=32'>33</a>\u001b[0m             sentence \u001b[39m=\u001b[39m sentence\u001b[39m.\u001b[39mtranslate(\u001b[39mself\u001b[39m\u001b[39m.\u001b[39mtranslator)\n",
      "\u001b[1;31mAttributeError\u001b[0m: 'float' object has no attribute 'lower'"
     ]
    }
   ],
   "source": [
    "# Set up logging\n",
    "#logging.basicConfig(format='%(asctime)s : %(levelname)s : %(message)s', level=logging.INFO)\n",
    "\n",
    "# Train Word2Vec model with gensim on the dataset\n",
    "w2v_model = gensim.models.Word2Vec(sentences, window=5, min_count=10, workers=8)\n",
    "\n",
    "# Retrieve the weights from the model. This is used for initializing the weights\n",
    "# in a Keras Embedding layer later\n",
    "w2v_weights = w2v_model.wv.vectors\n",
    "vocab_size, embedding_size = w2v_weights.shape\n",
    "\n",
    "print(\"Vocabulary Size: {} - Embedding Dim: {}\".format(vocab_size, embedding_size))\n",
    "\n",
    "# Some validation on the quality of the Word2Vec model\n",
    "print(w2v_model.wv.most_similar('1', topn=3))\n",
    "print(w2v_model.wv.most_similar('janeiro', topn=3))\n",
    "print(w2v_model.wv.most_similar('palmeiras', topn=3))\n",
    "print(w2v_model.wv.most_similar('ufsc', topn=3))\n",
    "print(w2v_model.wv.most_similar(positive=['rei', 'mulher'], negative=['homem'], topn=3))\n",
    "\n",
    "def word2token(word):\n",
    "    try:\n",
    "        return w2v_model.wv.vocab[word].index\n",
    "    # If word is not in index return 0. I realize this means that this\n",
    "    # is the same as the word of index 0 (i.e. most frequent word), but 0s\n",
    "    # will be padded later anyway by the embedding layer (which also\n",
    "    # seems dirty but I couldn't find a better solution right now)\n",
    "    except KeyError:\n",
    "        return 0\n",
    "def token2word(token):\n",
    "    return w2v_model.wv.index2word[token]"
   ]
  }
 ],
 "metadata": {
  "kernelspec": {
   "display_name": "Python 3",
   "language": "python",
   "name": "python3"
  },
  "language_info": {
   "codemirror_mode": {
    "name": "ipython",
    "version": 3
   },
   "file_extension": ".py",
   "mimetype": "text/x-python",
   "name": "python",
   "nbconvert_exporter": "python",
   "pygments_lexer": "ipython3",
   "version": "3.11.2"
  }
 },
 "nbformat": 4,
 "nbformat_minor": 2
}

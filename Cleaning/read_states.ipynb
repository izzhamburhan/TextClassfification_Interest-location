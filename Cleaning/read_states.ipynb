{
 "cells": [
  {
   "cell_type": "code",
   "execution_count": 3,
   "metadata": {},
   "outputs": [],
   "source": [
    "import pandas as pd"
   ]
  },
  {
   "cell_type": "code",
   "execution_count": 31,
   "metadata": {},
   "outputs": [],
   "source": [
    "dpol = pd.read_csv('data/state/Data-politics-state.csv', encoding='unicode_escape')\n",
    "dedu = pd.read_csv('data/state/Data-education-state.csv', encoding='unicode_escape')\n",
    "dfoo = pd.read_csv('data/state/Data-food-state.csv', encoding='unicode_escape')\n",
    "dspo = pd.read_csv('data/state/Data-sports-state.csv', encoding='unicode_escape')\n",
    "dtec = pd.read_csv('data/state/Data-tech-state.csv', encoding='unicode_escape')\n",
    "dent = pd.read_csv('data/state/Data-entertainment-state.csv',encoding='unicode_escape')"
   ]
  },
  {
   "cell_type": "code",
   "execution_count": 29,
   "metadata": {},
   "outputs": [],
   "source": []
  },
  {
   "cell_type": "code",
   "execution_count": 32,
   "metadata": {},
   "outputs": [
    {
     "data": {
      "text/html": [
       "<div>\n",
       "<style scoped>\n",
       "    .dataframe tbody tr th:only-of-type {\n",
       "        vertical-align: middle;\n",
       "    }\n",
       "\n",
       "    .dataframe tbody tr th {\n",
       "        vertical-align: top;\n",
       "    }\n",
       "\n",
       "    .dataframe thead th {\n",
       "        text-align: right;\n",
       "    }\n",
       "</style>\n",
       "<table border=\"1\" class=\"dataframe\">\n",
       "  <thead>\n",
       "    <tr style=\"text-align: right;\">\n",
       "      <th></th>\n",
       "      <th>text</th>\n",
       "      <th>location</th>\n",
       "      <th>interest</th>\n",
       "    </tr>\n",
       "  </thead>\n",
       "  <tbody>\n",
       "    <tr>\n",
       "      <th>0</th>\n",
       "      <td>So, there was an attempt hari tu to act like I...</td>\n",
       "      <td>NaN</td>\n",
       "      <td>technology</td>\n",
       "    </tr>\n",
       "    <tr>\n",
       "      <th>1</th>\n",
       "      <td>MOSTI and Cradle ni are clueless about whatâ...</td>\n",
       "      <td>NaN</td>\n",
       "      <td>technology</td>\n",
       "    </tr>\n",
       "    <tr>\n",
       "      <th>2</th>\n",
       "      <td>High-Tech exports by country:  ð¨ð³ China:...</td>\n",
       "      <td>NaN</td>\n",
       "      <td>technology</td>\n",
       "    </tr>\n",
       "    <tr>\n",
       "      <th>3</th>\n",
       "      <td>High-tech exports by country:  ð¨ð³ China:...</td>\n",
       "      <td>NaN</td>\n",
       "      <td>technology</td>\n",
       "    </tr>\n",
       "    <tr>\n",
       "      <th>4</th>\n",
       "      <td>Tbh, Malaysia have many tech talents and we do...</td>\n",
       "      <td>NaN</td>\n",
       "      <td>technology</td>\n",
       "    </tr>\n",
       "    <tr>\n",
       "      <th>...</th>\n",
       "      <td>...</td>\n",
       "      <td>...</td>\n",
       "      <td>...</td>\n",
       "    </tr>\n",
       "    <tr>\n",
       "      <th>4762</th>\n",
       "      <td>Cybersecurity fellas???!</td>\n",
       "      <td>Perlis</td>\n",
       "      <td>technology</td>\n",
       "    </tr>\n",
       "    <tr>\n",
       "      <th>4763</th>\n",
       "      <td>@malaysiakini @handsome2288 Not practical in t...</td>\n",
       "      <td>Perlis</td>\n",
       "      <td>technology</td>\n",
       "    </tr>\n",
       "    <tr>\n",
       "      <th>4764</th>\n",
       "      <td>This course teaches how to use the technology ...</td>\n",
       "      <td>Perlis</td>\n",
       "      <td>technology</td>\n",
       "    </tr>\n",
       "    <tr>\n",
       "      <th>4765</th>\n",
       "      <td>@Digital_Muscle Yep bro</td>\n",
       "      <td>Perlis</td>\n",
       "      <td>technology</td>\n",
       "    </tr>\n",
       "    <tr>\n",
       "      <th>4766</th>\n",
       "      <td>Art vs artist #artvsartist2022  Started digita...</td>\n",
       "      <td>Perlis</td>\n",
       "      <td>technology</td>\n",
       "    </tr>\n",
       "  </tbody>\n",
       "</table>\n",
       "<p>4767 rows × 3 columns</p>\n",
       "</div>"
      ],
      "text/plain": [
       "                                                   text location    interest\n",
       "0     So, there was an attempt hari tu to act like I...      NaN  technology\n",
       "1     MOSTI and Cradle ni are clueless about whatâ...      NaN  technology\n",
       "2     High-Tech exports by country:  ð¨ð³ China:...      NaN  technology\n",
       "3     High-tech exports by country:  ð¨ð³ China:...      NaN  technology\n",
       "4     Tbh, Malaysia have many tech talents and we do...      NaN  technology\n",
       "...                                                 ...      ...         ...\n",
       "4762                           Cybersecurity fellas???!   Perlis  technology\n",
       "4763  @malaysiakini @handsome2288 Not practical in t...   Perlis  technology\n",
       "4764  This course teaches how to use the technology ...   Perlis  technology\n",
       "4765                            @Digital_Muscle Yep bro   Perlis  technology\n",
       "4766  Art vs artist #artvsartist2022  Started digita...   Perlis  technology\n",
       "\n",
       "[4767 rows x 3 columns]"
      ]
     },
     "execution_count": 32,
     "metadata": {},
     "output_type": "execute_result"
    }
   ],
   "source": [
    "dtec"
   ]
  },
  {
   "cell_type": "code",
   "execution_count": null,
   "metadata": {},
   "outputs": [],
   "source": []
  }
 ],
 "metadata": {
  "kernelspec": {
   "display_name": "Python 3",
   "language": "python",
   "name": "python3"
  },
  "language_info": {
   "codemirror_mode": {
    "name": "ipython",
    "version": 3
   },
   "file_extension": ".py",
   "mimetype": "text/x-python",
   "name": "python",
   "nbconvert_exporter": "python",
   "pygments_lexer": "ipython3",
   "version": "3.11.2"
  },
  "orig_nbformat": 4
 },
 "nbformat": 4,
 "nbformat_minor": 2
}

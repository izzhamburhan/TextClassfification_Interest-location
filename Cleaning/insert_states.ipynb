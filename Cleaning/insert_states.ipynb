{
 "cells": [
  {
   "cell_type": "code",
   "execution_count": 1,
   "metadata": {},
   "outputs": [],
   "source": [
    "import pandas as pd"
   ]
  },
  {
   "cell_type": "code",
   "execution_count": 27,
   "metadata": {},
   "outputs": [],
   "source": [
    "# dpol = pd.read_csv('data/Data-politics.csv')\n",
    "# dedu = pd.read_csv('data/Data-education.csv')\n",
    "# dfoo = pd.read_csv('data/Data-food&drinks.csv')\n",
    "# dspo = pd.read_csv('data/Data-sports.csv')\n",
    "# dtec = pd.read_csv('data/Data-technology.csv')\n",
    "# dent = pd.read_csv('data/Data-entertainment.csv')\n",
    "df = pd.read_csv('../data/text_dataset.csv')"
   ]
  },
  {
   "cell_type": "code",
   "execution_count": 28,
   "metadata": {},
   "outputs": [
    {
     "data": {
      "text/html": [
       "<div>\n",
       "<style scoped>\n",
       "    .dataframe tbody tr th:only-of-type {\n",
       "        vertical-align: middle;\n",
       "    }\n",
       "\n",
       "    .dataframe tbody tr th {\n",
       "        vertical-align: top;\n",
       "    }\n",
       "\n",
       "    .dataframe thead th {\n",
       "        text-align: right;\n",
       "    }\n",
       "</style>\n",
       "<table border=\"1\" class=\"dataframe\">\n",
       "  <thead>\n",
       "    <tr style=\"text-align: right;\">\n",
       "      <th></th>\n",
       "      <th>text</th>\n",
       "      <th>location</th>\n",
       "      <th>interest</th>\n",
       "    </tr>\n",
       "  </thead>\n",
       "  <tbody>\n",
       "    <tr>\n",
       "      <th>0</th>\n",
       "      <td>attempt hari tu act like smart deep tech entre...</td>\n",
       "      <td>NaN</td>\n",
       "      <td>Technology</td>\n",
       "    </tr>\n",
       "    <tr>\n",
       "      <th>1</th>\n",
       "      <td>mosti cradle ni clueless whats going malaysia ...</td>\n",
       "      <td>NaN</td>\n",
       "      <td>Technology</td>\n",
       "    </tr>\n",
       "    <tr>\n",
       "      <th>2</th>\n",
       "      <td>hightech export country china 942b hong kong 4...</td>\n",
       "      <td>NaN</td>\n",
       "      <td>Technology</td>\n",
       "    </tr>\n",
       "    <tr>\n",
       "      <th>3</th>\n",
       "      <td>tbh malaysia many tech talent dont actually ne...</td>\n",
       "      <td>NaN</td>\n",
       "      <td>Technology</td>\n",
       "    </tr>\n",
       "    <tr>\n",
       "      <th>4</th>\n",
       "      <td>make 180000 tech consultant london grew extrem...</td>\n",
       "      <td>NaN</td>\n",
       "      <td>Technology</td>\n",
       "    </tr>\n",
       "    <tr>\n",
       "      <th>...</th>\n",
       "      <td>...</td>\n",
       "      <td>...</td>\n",
       "      <td>...</td>\n",
       "    </tr>\n",
       "    <tr>\n",
       "      <th>27593</th>\n",
       "      <td>smartwatch one better sport ea garmin amazfit ...</td>\n",
       "      <td>Terengganu</td>\n",
       "      <td>Sports</td>\n",
       "    </tr>\n",
       "    <tr>\n",
       "      <th>27594</th>\n",
       "      <td>abearfromsea heaven football maracana</td>\n",
       "      <td>Terengganu</td>\n",
       "      <td>Sports</td>\n",
       "    </tr>\n",
       "    <tr>\n",
       "      <th>27595</th>\n",
       "      <td>king pele former youth sport minister khairykj...</td>\n",
       "      <td>Terengganu</td>\n",
       "      <td>Sports</td>\n",
       "    </tr>\n",
       "    <tr>\n",
       "      <th>27596</th>\n",
       "      <td>love football</td>\n",
       "      <td>Terengganu</td>\n",
       "      <td>Sports</td>\n",
       "    </tr>\n",
       "    <tr>\n",
       "      <th>27597</th>\n",
       "      <td>kb football clinic although internet connectio...</td>\n",
       "      <td>Terengganu</td>\n",
       "      <td>Sports</td>\n",
       "    </tr>\n",
       "  </tbody>\n",
       "</table>\n",
       "<p>27598 rows × 3 columns</p>\n",
       "</div>"
      ],
      "text/plain": [
       "                                                    text    location  \\\n",
       "0      attempt hari tu act like smart deep tech entre...         NaN   \n",
       "1      mosti cradle ni clueless whats going malaysia ...         NaN   \n",
       "2      hightech export country china 942b hong kong 4...         NaN   \n",
       "3      tbh malaysia many tech talent dont actually ne...         NaN   \n",
       "4      make 180000 tech consultant london grew extrem...         NaN   \n",
       "...                                                  ...         ...   \n",
       "27593  smartwatch one better sport ea garmin amazfit ...  Terengganu   \n",
       "27594              abearfromsea heaven football maracana  Terengganu   \n",
       "27595  king pele former youth sport minister khairykj...  Terengganu   \n",
       "27596                                      love football  Terengganu   \n",
       "27597  kb football clinic although internet connectio...  Terengganu   \n",
       "\n",
       "         interest  \n",
       "0      Technology  \n",
       "1      Technology  \n",
       "2      Technology  \n",
       "3      Technology  \n",
       "4      Technology  \n",
       "...           ...  \n",
       "27593      Sports  \n",
       "27594      Sports  \n",
       "27595      Sports  \n",
       "27596      Sports  \n",
       "27597      Sports  \n",
       "\n",
       "[27598 rows x 3 columns]"
      ]
     },
     "execution_count": 28,
     "metadata": {},
     "output_type": "execute_result"
    }
   ],
   "source": [
    "c"
   ]
  },
  {
   "cell_type": "code",
   "execution_count": 29,
   "metadata": {},
   "outputs": [],
   "source": [
    "states = [\n",
    "    \"Johor\", \"Kedah\", \"Kelantan\", \"Melaka\", \"Negeri Sembilan\", \"Pahang\",\n",
    "    \"Perak\", \"Perlis\", \"Pulau Pinang\", \"Sabah\", \"Sarawak\", \"Selangor\", \"Terengganu\",\n",
    "    \"Kuala Lumpur\", \"Labuan\", \"Putrajaya\"\n",
    "]"
   ]
  },
  {
   "cell_type": "code",
   "execution_count": 33,
   "metadata": {},
   "outputs": [],
   "source": [
    "# Function to find state names in text and set in location column\n",
    "def find_state(text):\n",
    "    if isinstance(text, str):  # Check if text is a string\n",
    "        for state in states:\n",
    "            if state.lower() in text.lower():\n",
    "                return state\n",
    "    return \"Unknown\"  # Replace 'Other' if no state name is found in the text"
   ]
  },
  {
   "cell_type": "code",
   "execution_count": 34,
   "metadata": {},
   "outputs": [],
   "source": [
    "# dpol['location'] = dpol['text'].apply(find_state)\n",
    "# dedu['location'] = dedu['text'].apply(find_state)\n",
    "# dspo['location'] = dspo['text'].apply(find_state)\n",
    "# dfoo['location'] = dfoo['text'].apply(find_state)\n",
    "# dtec['location'] = dtec['text'].apply(find_state)\n",
    "# dent['location'] = dent['text'].apply(find_state)\n",
    "# Apply the function to the 'location' column\n",
    "df['location'] = df.apply(lambda row: find_state(row['text']) if pd.isna(row['location']) else row['location'], axis=1)"
   ]
  },
  {
   "cell_type": "code",
   "execution_count": 35,
   "metadata": {},
   "outputs": [
    {
     "data": {
      "text/plain": [
       "array(['Unknown', 'Sarawak', 'Kuala Lumpur', 'Negeri Sembilan',\n",
       "       'Selangor', 'Sabah', 'Putrajaya', 'Kedah', 'Perlis', 'Pahang',\n",
       "       'Melaka', 'Terengganu', 'Johor', 'Perak', 'Kelantan',\n",
       "       'Pulau Pinang', 'Labuan'], dtype=object)"
      ]
     },
     "execution_count": 35,
     "metadata": {},
     "output_type": "execute_result"
    }
   ],
   "source": [
    "df['location'].unique()"
   ]
  },
  {
   "cell_type": "code",
   "execution_count": 24,
   "metadata": {},
   "outputs": [],
   "source": [
    "unique_locations = df['location'].unique()\n",
    "unique_locations = [location for location in unique_locations if location != '']"
   ]
  },
  {
   "cell_type": "code",
   "execution_count": 25,
   "metadata": {},
   "outputs": [
    {
     "data": {
      "text/plain": [
       "['Sarawak',\n",
       " 'Kuala Lumpur',\n",
       " 'Negeri Sembilan',\n",
       " 'Selangor',\n",
       " 'Sabah',\n",
       " 'Putrajaya',\n",
       " 'Kedah',\n",
       " 'Perlis',\n",
       " 'Pahang',\n",
       " 'Melaka',\n",
       " 'Terengganu',\n",
       " 'Johor',\n",
       " 'Perak',\n",
       " 'Kelantan',\n",
       " 'Pulau Pinang',\n",
       " 'Labuan']"
      ]
     },
     "execution_count": 25,
     "metadata": {},
     "output_type": "execute_result"
    }
   ],
   "source": [
    "unique_locations"
   ]
  },
  {
   "cell_type": "code",
   "execution_count": 26,
   "metadata": {},
   "outputs": [
    {
     "name": "stdout",
     "output_type": "stream",
     "text": [
      "['', 'Sarawak', 'Kuala Lumpur', 'Negeri Sembilan', 'Selangor', 'Sabah', 'Putrajaya', 'Kedah', 'Perlis', 'Pahang', 'Melaka', 'Terengganu', 'Johor', 'Perak', 'Kelantan', 'Pulau Pinang', 'Labuan']\n"
     ]
    }
   ],
   "source": [
    "print(df.location.unique().tolist())"
   ]
  },
  {
   "cell_type": "code",
   "execution_count": 47,
   "metadata": {},
   "outputs": [],
   "source": [
    "# dpol.to_csv('data/state/Data-politics-state.csv')\n",
    "# dedu.to_csv('data/state/Data-education-state.csv')\n",
    "# dspo.to_csv('data/state/Data-sports-state.csv')\n",
    "# dfoo.to_csv('data/state/Data-food-state.csv')\n",
    "# dtec.to_csv('data/state/Data-tech-state.csv')\n",
    "# dent.to_csv('data/state/Data-entertainment-state.csv')"
   ]
  },
  {
   "cell_type": "code",
   "execution_count": 36,
   "metadata": {},
   "outputs": [
    {
     "data": {
      "text/plain": [
       "text        1\n",
       "location    0\n",
       "interest    0\n",
       "dtype: int64"
      ]
     },
     "execution_count": 36,
     "metadata": {},
     "output_type": "execute_result"
    }
   ],
   "source": [
    "df.isna().sum()"
   ]
  },
  {
   "cell_type": "code",
   "execution_count": 37,
   "metadata": {},
   "outputs": [
    {
     "data": {
      "text/html": [
       "<div>\n",
       "<style scoped>\n",
       "    .dataframe tbody tr th:only-of-type {\n",
       "        vertical-align: middle;\n",
       "    }\n",
       "\n",
       "    .dataframe tbody tr th {\n",
       "        vertical-align: top;\n",
       "    }\n",
       "\n",
       "    .dataframe thead th {\n",
       "        text-align: right;\n",
       "    }\n",
       "</style>\n",
       "<table border=\"1\" class=\"dataframe\">\n",
       "  <thead>\n",
       "    <tr style=\"text-align: right;\">\n",
       "      <th></th>\n",
       "      <th>text</th>\n",
       "      <th>location</th>\n",
       "      <th>interest</th>\n",
       "    </tr>\n",
       "  </thead>\n",
       "  <tbody>\n",
       "    <tr>\n",
       "      <th>0</th>\n",
       "      <td>attempt hari tu act like smart deep tech entre...</td>\n",
       "      <td>Unknown</td>\n",
       "      <td>Technology</td>\n",
       "    </tr>\n",
       "    <tr>\n",
       "      <th>1</th>\n",
       "      <td>mosti cradle ni clueless whats going malaysia ...</td>\n",
       "      <td>Unknown</td>\n",
       "      <td>Technology</td>\n",
       "    </tr>\n",
       "    <tr>\n",
       "      <th>2</th>\n",
       "      <td>hightech export country china 942b hong kong 4...</td>\n",
       "      <td>Unknown</td>\n",
       "      <td>Technology</td>\n",
       "    </tr>\n",
       "    <tr>\n",
       "      <th>3</th>\n",
       "      <td>tbh malaysia many tech talent dont actually ne...</td>\n",
       "      <td>Unknown</td>\n",
       "      <td>Technology</td>\n",
       "    </tr>\n",
       "    <tr>\n",
       "      <th>4</th>\n",
       "      <td>make 180000 tech consultant london grew extrem...</td>\n",
       "      <td>Unknown</td>\n",
       "      <td>Technology</td>\n",
       "    </tr>\n",
       "    <tr>\n",
       "      <th>...</th>\n",
       "      <td>...</td>\n",
       "      <td>...</td>\n",
       "      <td>...</td>\n",
       "    </tr>\n",
       "    <tr>\n",
       "      <th>27593</th>\n",
       "      <td>smartwatch one better sport ea garmin amazfit ...</td>\n",
       "      <td>Terengganu</td>\n",
       "      <td>Sports</td>\n",
       "    </tr>\n",
       "    <tr>\n",
       "      <th>27594</th>\n",
       "      <td>abearfromsea heaven football maracana</td>\n",
       "      <td>Terengganu</td>\n",
       "      <td>Sports</td>\n",
       "    </tr>\n",
       "    <tr>\n",
       "      <th>27595</th>\n",
       "      <td>king pele former youth sport minister khairykj...</td>\n",
       "      <td>Terengganu</td>\n",
       "      <td>Sports</td>\n",
       "    </tr>\n",
       "    <tr>\n",
       "      <th>27596</th>\n",
       "      <td>love football</td>\n",
       "      <td>Terengganu</td>\n",
       "      <td>Sports</td>\n",
       "    </tr>\n",
       "    <tr>\n",
       "      <th>27597</th>\n",
       "      <td>kb football clinic although internet connectio...</td>\n",
       "      <td>Terengganu</td>\n",
       "      <td>Sports</td>\n",
       "    </tr>\n",
       "  </tbody>\n",
       "</table>\n",
       "<p>27598 rows × 3 columns</p>\n",
       "</div>"
      ],
      "text/plain": [
       "                                                    text    location  \\\n",
       "0      attempt hari tu act like smart deep tech entre...     Unknown   \n",
       "1      mosti cradle ni clueless whats going malaysia ...     Unknown   \n",
       "2      hightech export country china 942b hong kong 4...     Unknown   \n",
       "3      tbh malaysia many tech talent dont actually ne...     Unknown   \n",
       "4      make 180000 tech consultant london grew extrem...     Unknown   \n",
       "...                                                  ...         ...   \n",
       "27593  smartwatch one better sport ea garmin amazfit ...  Terengganu   \n",
       "27594              abearfromsea heaven football maracana  Terengganu   \n",
       "27595  king pele former youth sport minister khairykj...  Terengganu   \n",
       "27596                                      love football  Terengganu   \n",
       "27597  kb football clinic although internet connectio...  Terengganu   \n",
       "\n",
       "         interest  \n",
       "0      Technology  \n",
       "1      Technology  \n",
       "2      Technology  \n",
       "3      Technology  \n",
       "4      Technology  \n",
       "...           ...  \n",
       "27593      Sports  \n",
       "27594      Sports  \n",
       "27595      Sports  \n",
       "27596      Sports  \n",
       "27597      Sports  \n",
       "\n",
       "[27598 rows x 3 columns]"
      ]
     },
     "execution_count": 37,
     "metadata": {},
     "output_type": "execute_result"
    }
   ],
   "source": [
    "df"
   ]
  },
  {
   "cell_type": "code",
   "execution_count": 38,
   "metadata": {},
   "outputs": [
    {
     "name": "stdout",
     "output_type": "stream",
     "text": [
      "Unknown            12028\n",
      "Kuala Lumpur        1552\n",
      "Selangor            1217\n",
      "Kedah               1216\n",
      "Pahang              1193\n",
      "Sabah               1148\n",
      "Pulau Pinang        1117\n",
      "Perak               1073\n",
      "Johor               1061\n",
      "Sarawak              994\n",
      "Negeri Sembilan      978\n",
      "Melaka               898\n",
      "Perlis               881\n",
      "Putrajaya            770\n",
      "Kelantan             570\n",
      "Terengganu           540\n",
      "Labuan               362\n",
      "Name: location, dtype: int64\n"
     ]
    }
   ],
   "source": [
    "location_counts = df['location'].value_counts()\n",
    "print(location_counts)"
   ]
  },
  {
   "cell_type": "code",
   "execution_count": 39,
   "metadata": {},
   "outputs": [
    {
     "data": {
      "text/html": [
       "<div>\n",
       "<style scoped>\n",
       "    .dataframe tbody tr th:only-of-type {\n",
       "        vertical-align: middle;\n",
       "    }\n",
       "\n",
       "    .dataframe tbody tr th {\n",
       "        vertical-align: top;\n",
       "    }\n",
       "\n",
       "    .dataframe thead th {\n",
       "        text-align: right;\n",
       "    }\n",
       "</style>\n",
       "<table border=\"1\" class=\"dataframe\">\n",
       "  <thead>\n",
       "    <tr style=\"text-align: right;\">\n",
       "      <th></th>\n",
       "      <th>text</th>\n",
       "      <th>location</th>\n",
       "      <th>interest</th>\n",
       "    </tr>\n",
       "  </thead>\n",
       "  <tbody>\n",
       "    <tr>\n",
       "      <th>0</th>\n",
       "      <td>attempt hari tu act like smart deep tech entre...</td>\n",
       "      <td>Unknown</td>\n",
       "      <td>Technology</td>\n",
       "    </tr>\n",
       "    <tr>\n",
       "      <th>1</th>\n",
       "      <td>mosti cradle ni clueless whats going malaysia ...</td>\n",
       "      <td>Unknown</td>\n",
       "      <td>Technology</td>\n",
       "    </tr>\n",
       "    <tr>\n",
       "      <th>2</th>\n",
       "      <td>hightech export country china 942b hong kong 4...</td>\n",
       "      <td>Unknown</td>\n",
       "      <td>Technology</td>\n",
       "    </tr>\n",
       "    <tr>\n",
       "      <th>3</th>\n",
       "      <td>tbh malaysia many tech talent dont actually ne...</td>\n",
       "      <td>Unknown</td>\n",
       "      <td>Technology</td>\n",
       "    </tr>\n",
       "    <tr>\n",
       "      <th>4</th>\n",
       "      <td>make 180000 tech consultant london grew extrem...</td>\n",
       "      <td>Unknown</td>\n",
       "      <td>Technology</td>\n",
       "    </tr>\n",
       "    <tr>\n",
       "      <th>...</th>\n",
       "      <td>...</td>\n",
       "      <td>...</td>\n",
       "      <td>...</td>\n",
       "    </tr>\n",
       "    <tr>\n",
       "      <th>27593</th>\n",
       "      <td>smartwatch one better sport ea garmin amazfit ...</td>\n",
       "      <td>Terengganu</td>\n",
       "      <td>Sports</td>\n",
       "    </tr>\n",
       "    <tr>\n",
       "      <th>27594</th>\n",
       "      <td>abearfromsea heaven football maracana</td>\n",
       "      <td>Terengganu</td>\n",
       "      <td>Sports</td>\n",
       "    </tr>\n",
       "    <tr>\n",
       "      <th>27595</th>\n",
       "      <td>king pele former youth sport minister khairykj...</td>\n",
       "      <td>Terengganu</td>\n",
       "      <td>Sports</td>\n",
       "    </tr>\n",
       "    <tr>\n",
       "      <th>27596</th>\n",
       "      <td>love football</td>\n",
       "      <td>Terengganu</td>\n",
       "      <td>Sports</td>\n",
       "    </tr>\n",
       "    <tr>\n",
       "      <th>27597</th>\n",
       "      <td>kb football clinic although internet connectio...</td>\n",
       "      <td>Terengganu</td>\n",
       "      <td>Sports</td>\n",
       "    </tr>\n",
       "  </tbody>\n",
       "</table>\n",
       "<p>27598 rows × 3 columns</p>\n",
       "</div>"
      ],
      "text/plain": [
       "                                                    text    location  \\\n",
       "0      attempt hari tu act like smart deep tech entre...     Unknown   \n",
       "1      mosti cradle ni clueless whats going malaysia ...     Unknown   \n",
       "2      hightech export country china 942b hong kong 4...     Unknown   \n",
       "3      tbh malaysia many tech talent dont actually ne...     Unknown   \n",
       "4      make 180000 tech consultant london grew extrem...     Unknown   \n",
       "...                                                  ...         ...   \n",
       "27593  smartwatch one better sport ea garmin amazfit ...  Terengganu   \n",
       "27594              abearfromsea heaven football maracana  Terengganu   \n",
       "27595  king pele former youth sport minister khairykj...  Terengganu   \n",
       "27596                                      love football  Terengganu   \n",
       "27597  kb football clinic although internet connectio...  Terengganu   \n",
       "\n",
       "         interest  \n",
       "0      Technology  \n",
       "1      Technology  \n",
       "2      Technology  \n",
       "3      Technology  \n",
       "4      Technology  \n",
       "...           ...  \n",
       "27593      Sports  \n",
       "27594      Sports  \n",
       "27595      Sports  \n",
       "27596      Sports  \n",
       "27597      Sports  \n",
       "\n",
       "[27598 rows x 3 columns]"
      ]
     },
     "execution_count": 39,
     "metadata": {},
     "output_type": "execute_result"
    }
   ],
   "source": [
    "df"
   ]
  },
  {
   "cell_type": "code",
   "execution_count": 43,
   "metadata": {},
   "outputs": [],
   "source": [
    "df = df.reset_index(drop=True)\n",
    "df.to_csv('../data/text_dataset_labeled.csv')"
   ]
  },
  {
   "cell_type": "code",
   "execution_count": 64,
   "metadata": {},
   "outputs": [
    {
     "data": {
      "text/plain": [
       "'Malaysia|singapore|china|india|amp'"
      ]
     },
     "execution_count": 64,
     "metadata": {},
     "output_type": "execute_result"
    }
   ],
   "source": [
    "words_to_remove = ['Malaysia', 'singapore', 'china', 'india','amp']\n",
    "pattern = '|'.join(words_to_remove)\n",
    "pattern"
   ]
  },
  {
   "cell_type": "code",
   "execution_count": 62,
   "metadata": {},
   "outputs": [],
   "source": [
    "df['text'] = df['text'].str.replace(pattern,'', case=False,regex=True)\n",
    "# df_text_no_malaysia = df['text'].strip()"
   ]
  },
  {
   "cell_type": "code",
   "execution_count": 58,
   "metadata": {},
   "outputs": [],
   "source": [
    "# Create a DataFrame with the original text and the lemmatized text\n",
    "comparison_df = pd.concat([df['text'], df_text_no_malaysia], axis=1)\n",
    "comparison_df.columns = ['df', 'df_text_no_malaysia']"
   ]
  },
  {
   "cell_type": "code",
   "execution_count": 59,
   "metadata": {},
   "outputs": [
    {
     "data": {
      "text/html": [
       "<div>\n",
       "<style scoped>\n",
       "    .dataframe tbody tr th:only-of-type {\n",
       "        vertical-align: middle;\n",
       "    }\n",
       "\n",
       "    .dataframe tbody tr th {\n",
       "        vertical-align: top;\n",
       "    }\n",
       "\n",
       "    .dataframe thead th {\n",
       "        text-align: right;\n",
       "    }\n",
       "</style>\n",
       "<table border=\"1\" class=\"dataframe\">\n",
       "  <thead>\n",
       "    <tr style=\"text-align: right;\">\n",
       "      <th></th>\n",
       "      <th>df</th>\n",
       "      <th>df_text_no_malaysia</th>\n",
       "    </tr>\n",
       "  </thead>\n",
       "  <tbody>\n",
       "    <tr>\n",
       "      <th>0</th>\n",
       "      <td>attempt hari tu act like smart deep tech entrepreneur follow brilliant folk convince bunch really important senior guy perspective deep tech startup scene malaysia think startup tshirt manage fool</td>\n",
       "      <td>attempt hari tu act like smart deep tech entrepreneur follow brilliant folk convince bunch really important senior guy perspective deep tech startup scene  think startup tshirt manage fool</td>\n",
       "    </tr>\n",
       "    <tr>\n",
       "      <th>1</th>\n",
       "      <td>mosti cradle ni clueless whats going malaysia tech talent ke came mystartup dev idea whats happening grassroot level engage end sign actually run managed expat want expat local talent</td>\n",
       "      <td>mosti cradle ni clueless whats going  tech talent ke came mystartup dev idea whats happening grassroot level engage end sign actually run managed expat want expat local talent</td>\n",
       "    </tr>\n",
       "    <tr>\n",
       "      <th>2</th>\n",
       "      <td>hightech export country china 942b hong kong 431b germany 209b usa 169b south korea 164b singapore 160b japan 116b malaysia 108b vietnam 101b netherlands 101b france 97b mexico 75b uk 66b belgium 52b</td>\n",
       "      <td>hightech export country  942b hong kong 431b germany 209b usa 169b south korea 164b  160b japan 116b  108b vietnam 101b netherlands 101b france 97b mexico 75b uk 66b belgium 52b</td>\n",
       "    </tr>\n",
       "    <tr>\n",
       "      <th>3</th>\n",
       "      <td>tbh malaysia many tech talent dont actually need focus creating even tech talent need though following match right talent right company pay right wage prevent tech talent exodus upskill match right skill</td>\n",
       "      <td>tbh  many tech talent dont actually need focus creating even tech talent need though following match right talent right company pay right wage prevent tech talent exodus upskill match right skill</td>\n",
       "    </tr>\n",
       "    <tr>\n",
       "      <th>4</th>\n",
       "      <td>make 180000 tech consultant london grew extremely poor somali went university malaysia 800 graduated work call centre 2015 move uk family 30000 salary make 180000 year</td>\n",
       "      <td>make 180000 tech consultant london grew extremely poor somali went university  800 graduated work call centre 2015 move uk family 30000 salary make 180000 year</td>\n",
       "    </tr>\n",
       "    <tr>\n",
       "      <th>...</th>\n",
       "      <td>...</td>\n",
       "      <td>...</td>\n",
       "    </tr>\n",
       "    <tr>\n",
       "      <th>27593</th>\n",
       "      <td>smartwatch one better sport ea garmin amazfit amp coros pace</td>\n",
       "      <td>smartwatch one better sport ea garmin amazfit amp coros pace</td>\n",
       "    </tr>\n",
       "    <tr>\n",
       "      <th>27594</th>\n",
       "      <td>abearfromsea heaven football maracana</td>\n",
       "      <td>abearfromsea heaven football maracana</td>\n",
       "    </tr>\n",
       "    <tr>\n",
       "      <th>27595</th>\n",
       "      <td>king pele former youth sport minister khairykj visit malaysia 2015 pict faizpapaiesz12</td>\n",
       "      <td>king pele former youth sport minister khairykj visit  2015 pict faizpapaiesz12</td>\n",
       "    </tr>\n",
       "    <tr>\n",
       "      <th>27596</th>\n",
       "      <td>love football</td>\n",
       "      <td>love football</td>\n",
       "    </tr>\n",
       "    <tr>\n",
       "      <th>27597</th>\n",
       "      <td>kb football clinic although internet connection fast expected part malaysia im happy back everyone talk casually smile ive missed friendly smile much</td>\n",
       "      <td>kb football clinic although internet connection fast expected part  im happy back everyone talk casually smile ive missed friendly smile much</td>\n",
       "    </tr>\n",
       "  </tbody>\n",
       "</table>\n",
       "<p>27598 rows × 2 columns</p>\n",
       "</div>"
      ],
      "text/plain": [
       "                                                                                                                                                                                                                df  \\\n",
       "0             attempt hari tu act like smart deep tech entrepreneur follow brilliant folk convince bunch really important senior guy perspective deep tech startup scene malaysia think startup tshirt manage fool   \n",
       "1                          mosti cradle ni clueless whats going malaysia tech talent ke came mystartup dev idea whats happening grassroot level engage end sign actually run managed expat want expat local talent   \n",
       "2          hightech export country china 942b hong kong 431b germany 209b usa 169b south korea 164b singapore 160b japan 116b malaysia 108b vietnam 101b netherlands 101b france 97b mexico 75b uk 66b belgium 52b   \n",
       "3      tbh malaysia many tech talent dont actually need focus creating even tech talent need though following match right talent right company pay right wage prevent tech talent exodus upskill match right skill   \n",
       "4                                          make 180000 tech consultant london grew extremely poor somali went university malaysia 800 graduated work call centre 2015 move uk family 30000 salary make 180000 year   \n",
       "...                                                                                                                                                                                                            ...   \n",
       "27593                                                                                                                                                 smartwatch one better sport ea garmin amazfit amp coros pace   \n",
       "27594                                                                                                                                                                        abearfromsea heaven football maracana   \n",
       "27595                                                                                                                       king pele former youth sport minister khairykj visit malaysia 2015 pict faizpapaiesz12   \n",
       "27596                                                                                                                                                                                                love football   \n",
       "27597                                                        kb football clinic although internet connection fast expected part malaysia im happy back everyone talk casually smile ive missed friendly smile much   \n",
       "\n",
       "                                                                                                                                                                                       df_text_no_malaysia  \n",
       "0             attempt hari tu act like smart deep tech entrepreneur follow brilliant folk convince bunch really important senior guy perspective deep tech startup scene  think startup tshirt manage fool  \n",
       "1                          mosti cradle ni clueless whats going  tech talent ke came mystartup dev idea whats happening grassroot level engage end sign actually run managed expat want expat local talent  \n",
       "2                        hightech export country  942b hong kong 431b germany 209b usa 169b south korea 164b  160b japan 116b  108b vietnam 101b netherlands 101b france 97b mexico 75b uk 66b belgium 52b  \n",
       "3      tbh  many tech talent dont actually need focus creating even tech talent need though following match right talent right company pay right wage prevent tech talent exodus upskill match right skill  \n",
       "4                                          make 180000 tech consultant london grew extremely poor somali went university  800 graduated work call centre 2015 move uk family 30000 salary make 180000 year  \n",
       "...                                                                                                                                                                                                    ...  \n",
       "27593                                                                                                                                         smartwatch one better sport ea garmin amazfit amp coros pace  \n",
       "27594                                                                                                                                                                abearfromsea heaven football maracana  \n",
       "27595                                                                                                                       king pele former youth sport minister khairykj visit  2015 pict faizpapaiesz12  \n",
       "27596                                                                                                                                                                                        love football  \n",
       "27597                                                        kb football clinic although internet connection fast expected part  im happy back everyone talk casually smile ive missed friendly smile much  \n",
       "\n",
       "[27598 rows x 2 columns]"
      ]
     },
     "execution_count": 59,
     "metadata": {},
     "output_type": "execute_result"
    }
   ],
   "source": [
    "pd.set_option('display.max_colwidth', None)\n",
    "comparison_df"
   ]
  },
  {
   "cell_type": "code",
   "execution_count": 63,
   "metadata": {},
   "outputs": [],
   "source": [
    "df.to_csv('../data/text_dataset_labeled.csv')"
   ]
  }
 ],
 "metadata": {
  "kernelspec": {
   "display_name": "Python 3",
   "language": "python",
   "name": "python3"
  },
  "language_info": {
   "codemirror_mode": {
    "name": "ipython",
    "version": 3
   },
   "file_extension": ".py",
   "mimetype": "text/x-python",
   "name": "python",
   "nbconvert_exporter": "python",
   "pygments_lexer": "ipython3",
   "version": "3.11.2"
  },
  "orig_nbformat": 4
 },
 "nbformat": 4,
 "nbformat_minor": 2
}

{
 "cells": [
  {
   "cell_type": "code",
   "execution_count": 1,
   "id": "04c52e1b-c64b-4817-864a-31a9abcb23ca",
   "metadata": {},
   "outputs": [
    {
     "name": "stdout",
     "output_type": "stream",
     "text": [
      "Requirement already satisfied: pandas in c:\\users\\izzham burhan\\appdata\\local\\programs\\python\\python311\\lib\\site-packages (1.5.3)\n",
      "Requirement already satisfied: python-dateutil>=2.8.1 in c:\\users\\izzham burhan\\appdata\\local\\programs\\python\\python311\\lib\\site-packages (from pandas) (2.8.2)\n",
      "Requirement already satisfied: pytz>=2020.1 in c:\\users\\izzham burhan\\appdata\\local\\programs\\python\\python311\\lib\\site-packages (from pandas) (2022.7.1)\n",
      "Requirement already satisfied: numpy>=1.21.0 in c:\\users\\izzham burhan\\appdata\\local\\programs\\python\\python311\\lib\\site-packages (from pandas) (1.24.2)\n",
      "Requirement already satisfied: six>=1.5 in c:\\users\\izzham burhan\\appdata\\local\\programs\\python\\python311\\lib\\site-packages (from python-dateutil>=2.8.1->pandas) (1.16.0)\n"
     ]
    },
    {
     "name": "stderr",
     "output_type": "stream",
     "text": [
      "\n",
      "[notice] A new release of pip is available: 23.1.2 -> 23.2.1\n",
      "[notice] To update, run: python.exe -m pip install --upgrade pip\n",
      "'sudo' is not recognized as an internal or external command,\n",
      "operable program or batch file.\n",
      "'sudo' is not recognized as an internal or external command,\n",
      "operable program or batch file.\n"
     ]
    }
   ],
   "source": [
    "!pip install pandas\n",
    "!curl -sL https://deb.nodesource.com/setup_18.x | sudo -E bash -\n",
    "!sudo apt-get install -y nodejs"
   ]
  },
  {
   "cell_type": "code",
   "execution_count": 4,
   "id": "592f57b8-c1ee-454c-95c8-456fc352e2f0",
   "metadata": {},
   "outputs": [
    {
     "name": "stderr",
     "output_type": "stream",
     "text": [
      "'npx' is not recognized as an internal or external command,\n",
      "operable program or batch file.\n"
     ]
    }
   ],
   "source": [
    "# Crawl Data\n",
    "\n",
    "filename = 'entertainment-mov.csv'\n",
    "search_keyword = 'Movie Malaysia min_faves:1 lang:en'\n",
    "limit = 300\n",
    "\n",
    "!npx --yes tweet-harvest@latest -o \"{filename}\" -s \"{search_keyword}\" -l {limit} --token \"\""
   ]
  },
  {
   "cell_type": "code",
   "execution_count": null,
   "id": "a4c05123",
   "metadata": {},
   "outputs": [],
   "source": [
    "# Crawl Data\n",
    "\n",
    "filename = 'Putrajaya-food.csv'\n",
    "search_keyword = 'food OR restaurant lang:en geocode:2.9264,101.6964,25km since:2019-01-01'\n",
    "limit = 150\n",
    "\n",
    "!npx --yes tweet-harvest@latest -o \"{filename}\" -s \"{search_keyword}\" -l {limit} --token \"86c94aa05c8c98083d3441756e42060c1682bddc\""
   ]
  },
  {
   "cell_type": "code",
   "execution_count": null,
   "id": "efe72a1b",
   "metadata": {},
   "outputs": [],
   "source": [
    "# Crawl Data\n",
    "\n",
    "filename = 'Johor-sport.csv'\n",
    "search_keyword = 'sport OR athlete OR badminton OR football OR jogging OR hiking lang:en geocode:1.9344,103.3587,100km since:2019-01-01'\n",
    "limit = 200\n",
    "\n",
    "!npx --yes tweet-harvest@latest -o \"{filename}\" -s \"{search_keyword}\" -l {limit} --token \"86c94aa05c8c98083d3441756e42060c1682bddc\""
   ]
  },
  {
   "cell_type": "code",
   "execution_count": null,
   "id": "b84c7ba7",
   "metadata": {},
   "outputs": [],
   "source": [
    "# Crawl Data\n",
    "\n",
    "filename = 'putrajaya-technology.csv'\n",
    "search_keyword = 'technology OR software OR programming OR Coding OR digital OR Cybersecurity lang:en technology OR software OR programming OR Coding OR digital OR Cybersecurity lang:en geocode:2.9264,101.6964,25km since:2019-01-01'\n",
    "limit = 200\n",
    "\n",
    "!npx --yes tweet-harvest@latest -o \"{filename}\" -s \"{search_keyword}\" -l {limit} --token \"86c94aa05c8c98083d3441756e42060c1682bddc\""
   ]
  },
  {
   "cell_type": "code",
   "execution_count": null,
   "id": "b3ba0dd6",
   "metadata": {},
   "outputs": [],
   "source": [
    "# Crawl Data\n",
    "\n",
    "filename = 'Melaka-entertainment.csv'\n",
    "search_keyword = 'entertainment OR movie OR music OR events OR Celebrity OR gaming OR comedy OR game OR actress OR tiktok OR dance OR Culture OR artist lang:en geocode:2.1896,102.2501,50km since:2019-01-01'\n",
    "limit = 200\n",
    "\n",
    "!npx --yes tweet-harvest@latest -o \"{filename}\" -s \"{search_keyword}\" -l {limit} --token \"86c94aa05c8c98083d3441756e42060c1682bddc\""
   ]
  },
  {
   "cell_type": "code",
   "execution_count": null,
   "id": "042c63ed-4c68-484a-8a10-81c245f0d795",
   "metadata": {},
   "outputs": [],
   "source": [
    "import pandas as pd\n",
    "\n",
    "# Specify the path to your CSV file\n",
    "file_path = f\"tweets-data/{filename}\"\n",
    "\n",
    "# Read the CSV file into a pandas DataFrame\n",
    "df = pd.read_csv(file_path, delimiter=\";\")\n",
    "\n",
    "# Display the DataFrame\n",
    "display(df)"
   ]
  },
  {
   "cell_type": "code",
   "execution_count": 5,
   "id": "3e6e24de-af23-44bf-bf40-f6bad63cc7fe",
   "metadata": {},
   "outputs": [
    {
     "name": "stdout",
     "output_type": "stream",
     "text": [
      "Status Failed On, 403 Forbidden\n",
      "453 - You currently have access to a subset of Twitter API v2 endpoints and limited v1.1 endpoints (e.g. media post, oauth) only. If you need access to this endpoint, you may need a different access level. You can learn more here: https://developer.twitter.com/en/portal/product\n"
     ]
    }
   ],
   "source": [
    "# Cek jumlah data yang didapatkan\n",
    "\n",
    "num_tweets = len(df)\n",
    "print(f\"Jumlah tweet dalam dataframe adalah {num_tweets}.\")"
   ]
  },
  {
   "cell_type": "code",
   "execution_count": null,
   "id": "6c6e9e20-7448-4683-83f7-b1279ac5a0b2",
   "metadata": {},
   "outputs": [],
   "source": [
    "# Crawl Data\n",
    "\n",
    "# filename = 'Johor-sport.csv'\n",
    "# search_keyword = 'sport OR athlete OR badminton OR football OR jogging OR hiking lang:en geocode:1.9344,103.3587,100km since:2019-01-01'\n",
    "# limit = 200\n",
    "\n",
    "# List of states in Malaysia with their geocodes\n",
    "states = [\n",
    "    {\"name\": \"Johor\", \"geocode\": \"1.9344,103.3587,100km\"},\n",
    "    {\"name\": \"Kelantan\", \"geocode\": \"6.1254,102.2385,100km\"},\n",
    "    {\"name\": \"Kedah\", \"geocode\": \"6.1241,100.3676,100km\"},\n",
    "    {\"name\": \"Melaka\", \"geocode\": \"2.2069,102.2567,50km\"},\n",
    "    {\"name\": \"Negeri Sembilan\", \"geocode\": \"2.7258,101.9381,50km\"},\n",
    "    {\"name\": \"Pahang\", \"geocode\": \"3.8077,103.3261,100km\"},\n",
    "    {\"name\": \"Perak\", \"geocode\": \"4.5936,101.0901,100km\"},\n",
    "    {\"name\": \"Perlis\", \"geocode\": \"6.4413,100.1985,50km\"},\n",
    "    {\"name\": \"Penang\", \"geocode\": \"5.2636,100.4840,50km\"},\n",
    "    {\"name\": \"Sabah\", \"geocode\": \"5.9756,116.0724,100km\"},\n",
    "    {\"name\": \"Sarawak\", \"geocode\": \"1.5535,110.3592,100km\"},\n",
    "    {\"name\": \"Selangor\", \"geocode\": \"3.3798,101.7584,100km\"},\n",
    "    {\"name\": \"Terengganu\", \"geocode\": \"5.3117,103.1323,50km\"},\n",
    "    {\"name\": \"Putrajaya\", \"geocode\": \"2.9264,101.6964,50km\"},\n",
    "    {\"name\": \"Labuan\", \"geocode\": \"5.2767,115.2414,50km\"},\n",
    "]\n",
    "\n",
    "# List of interests and their associated keywords\n",
    "interests = {\n",
    "    \"Politics\": [\"politics\", \"government\", \"election\", \"policy\", \"democracy\", \"PN\", \"PH\", \"PAS\" ,\"BN\"],\n",
    "    \"Sports\": [\"sports\", \"athlete\", \"football\", \"basketball\", \"tennis\", \"silat\", \"jogging\", \"running\", \"hiking\", \"volleyball\", \"squash\",\"badminton\"],\n",
    "    \"Education\": [\"education\", \"school\", \"student\", \"teacher\", \"learning\",\"exam\",\"UiTM\", \"university\", \"internship\", \"lecturer\", \"study\"],\n",
    "    \"Food&Drinks\": [\"food\", \"drink\", \"restaurant\", \"cuisine\", \"cooking\", \"nasi lemak\", \"durian\", \"satay\", \"teh\", \"roti canai\"],\n",
    "    \"Technology\": [\"technology\", \"innovation\", \"gadget\", \"digital\", \"internet\", \"5G\", \"robot\", \"coding\", \"data\", \"Artificial Intelligence\",\"cybersecurity\"],\n",
    "    \"Entertainment\": [\"entertainment\", \"music\", \"movie\", \"celebrity\", \"arts\", \"comedy\", \"culture\", \"theater\", \"tiktok\", \"instagram\", \"film\", \"event\", \"festivals\"]\n",
    "}\n",
    "\n",
    "# Define the search parameters\n",
    "since_date = \"2019-01-01\"\n",
    "limit = 400\n",
    "\n",
    "# Generate search queries for each state and interest\n",
    "for state in states:\n",
    "    for interest, keywords in interests.items():\n",
    "        # Generate keywords for the interest\n",
    "        keyword_string = \" OR \".join(keywords)\n",
    "        \n",
    "        # Define the filename\n",
    "        filename = f\"{state['name']}-{interest.lower()}.csv\"\n",
    "        \n",
    "        # Define the search keywords with geocode and interest keywords\n",
    "        search_keyword = f\"({keyword_string}) lang:en geocode:{state['geocode']} since:{since_date}\"\n",
    "        \n",
    "        # Print or save the filename and search_keyword as needed\n",
    "        # print(f\"filename = '{filename}'\")\n",
    "        # print(f\"search_keyword = '{search_keyword}'\")\n",
    "        # print(f\"limit = {limit}\\n\")\n",
    "\n",
    "        !npx --yes tweet-harvest@latest -o \"{filename}\" -s \"{search_keyword}\" -l {limit} --token \"86c94aa05c8c98083d3441756e42060c1682bddc\"\n",
    "\n",
    "# !npx --yes tweet-harvest@latest -o \"{filename}\" -s \"{search_keyword}\" -l {limit} --token \"86c94aa05c8c98083d3441756e42060c1682bddc\""
   ]
  }
 ],
 "metadata": {
  "kernelspec": {
   "display_name": "Python 3 (ipykernel)",
   "language": "python",
   "name": "python3"
  },
  "language_info": {
   "codemirror_mode": {
    "name": "ipython",
    "version": 3
   },
   "file_extension": ".py",
   "mimetype": "text/x-python",
   "name": "python",
   "nbconvert_exporter": "python",
   "pygments_lexer": "ipython3",
   "version": "3.11.2"
  }
 },
 "nbformat": 4,
 "nbformat_minor": 5
}
